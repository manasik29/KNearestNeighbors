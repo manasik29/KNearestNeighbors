{
  "nbformat": 4,
  "nbformat_minor": 0,
  "metadata": {
    "colab": {
      "name": "KNearestNeighbors glass",
      "provenance": [],
      "collapsed_sections": [],
      "authorship_tag": "ABX9TyM2NsktsKqUF+q5idbUUcI+",
      "include_colab_link": true
    },
    "kernelspec": {
      "name": "python3",
      "display_name": "Python 3"
    },
    "language_info": {
      "name": "python"
    }
  },
  "cells": [
    {
      "cell_type": "markdown",
      "metadata": {
        "id": "view-in-github",
        "colab_type": "text"
      },
      "source": [
        "<a href=\"https://colab.research.google.com/github/manasik29/KNearestNeighbors/blob/main/KNearestNeighbors_glass.ipynb\" target=\"_parent\"><img src=\"https://colab.research.google.com/assets/colab-badge.svg\" alt=\"Open In Colab\"/></a>"
      ]
    },
    {
      "cell_type": "markdown",
      "source": [
        "# **Problem Statement:**\n",
        "\n",
        "**Prepare a model for glass classification using KNN**\n",
        "\n",
        "**Data Description:**\n",
        "\n",
        "- RI : refractive index\n",
        "\n",
        "- Na: Sodium (unit measurement: weight percent in corresponding oxide, as are attributes 4-10)\n",
        "\n",
        "- Mg: Magnesium\n",
        "\n",
        "- AI: Aluminum\n",
        "\n",
        "- Si: Silicon\n",
        "\n",
        "- K:Potassium\n",
        "\n",
        "- Ca: Calcium\n",
        "\n",
        "- Ba: Barium\n",
        "\n",
        "- Fe: Iron\n",
        "\n",
        "**Type: Type of glass: (class attribute)**\n",
        "\n",
        "1 -- building_windows_float_processed\n",
        " \n",
        "2 --building_windows_non_float_processed\n",
        "\n",
        "3 --vehicle_windows_float_processed\n",
        "\n",
        "4 --vehicle_windows_non_float_processed (none in this database)\n",
        "\n",
        "5 --containers\n",
        "\n",
        "6 --tableware\n",
        "\n",
        "7 --headlamps"
      ],
      "metadata": {
        "id": "4qzDg4i49pBp"
      }
    },
    {
      "cell_type": "markdown",
      "source": [
        "**Load Data & Libraries**"
      ],
      "metadata": {
        "id": "DcR90A3q-JXD"
      }
    },
    {
      "cell_type": "code",
      "execution_count": 1,
      "metadata": {
        "colab": {
          "base_uri": "https://localhost:8080/",
          "height": 206
        },
        "id": "E0eAh_Tc9QVu",
        "outputId": "e9f3d2b9-a7e8-40c9-d341-65d04b5135df"
      },
      "outputs": [
        {
          "output_type": "execute_result",
          "data": {
            "text/plain": [
              "        RI     Na    Mg    Al     Si     K    Ca   Ba   Fe  Type\n",
              "0  1.52101  13.64  4.49  1.10  71.78  0.06  8.75  0.0  0.0     1\n",
              "1  1.51761  13.89  3.60  1.36  72.73  0.48  7.83  0.0  0.0     1\n",
              "2  1.51618  13.53  3.55  1.54  72.99  0.39  7.78  0.0  0.0     1\n",
              "3  1.51766  13.21  3.69  1.29  72.61  0.57  8.22  0.0  0.0     1\n",
              "4  1.51742  13.27  3.62  1.24  73.08  0.55  8.07  0.0  0.0     1"
            ],
            "text/html": [
              "\n",
              "  <div id=\"df-d6856d16-da8c-4180-a63f-0046e09b058e\">\n",
              "    <div class=\"colab-df-container\">\n",
              "      <div>\n",
              "<style scoped>\n",
              "    .dataframe tbody tr th:only-of-type {\n",
              "        vertical-align: middle;\n",
              "    }\n",
              "\n",
              "    .dataframe tbody tr th {\n",
              "        vertical-align: top;\n",
              "    }\n",
              "\n",
              "    .dataframe thead th {\n",
              "        text-align: right;\n",
              "    }\n",
              "</style>\n",
              "<table border=\"1\" class=\"dataframe\">\n",
              "  <thead>\n",
              "    <tr style=\"text-align: right;\">\n",
              "      <th></th>\n",
              "      <th>RI</th>\n",
              "      <th>Na</th>\n",
              "      <th>Mg</th>\n",
              "      <th>Al</th>\n",
              "      <th>Si</th>\n",
              "      <th>K</th>\n",
              "      <th>Ca</th>\n",
              "      <th>Ba</th>\n",
              "      <th>Fe</th>\n",
              "      <th>Type</th>\n",
              "    </tr>\n",
              "  </thead>\n",
              "  <tbody>\n",
              "    <tr>\n",
              "      <th>0</th>\n",
              "      <td>1.52101</td>\n",
              "      <td>13.64</td>\n",
              "      <td>4.49</td>\n",
              "      <td>1.10</td>\n",
              "      <td>71.78</td>\n",
              "      <td>0.06</td>\n",
              "      <td>8.75</td>\n",
              "      <td>0.0</td>\n",
              "      <td>0.0</td>\n",
              "      <td>1</td>\n",
              "    </tr>\n",
              "    <tr>\n",
              "      <th>1</th>\n",
              "      <td>1.51761</td>\n",
              "      <td>13.89</td>\n",
              "      <td>3.60</td>\n",
              "      <td>1.36</td>\n",
              "      <td>72.73</td>\n",
              "      <td>0.48</td>\n",
              "      <td>7.83</td>\n",
              "      <td>0.0</td>\n",
              "      <td>0.0</td>\n",
              "      <td>1</td>\n",
              "    </tr>\n",
              "    <tr>\n",
              "      <th>2</th>\n",
              "      <td>1.51618</td>\n",
              "      <td>13.53</td>\n",
              "      <td>3.55</td>\n",
              "      <td>1.54</td>\n",
              "      <td>72.99</td>\n",
              "      <td>0.39</td>\n",
              "      <td>7.78</td>\n",
              "      <td>0.0</td>\n",
              "      <td>0.0</td>\n",
              "      <td>1</td>\n",
              "    </tr>\n",
              "    <tr>\n",
              "      <th>3</th>\n",
              "      <td>1.51766</td>\n",
              "      <td>13.21</td>\n",
              "      <td>3.69</td>\n",
              "      <td>1.29</td>\n",
              "      <td>72.61</td>\n",
              "      <td>0.57</td>\n",
              "      <td>8.22</td>\n",
              "      <td>0.0</td>\n",
              "      <td>0.0</td>\n",
              "      <td>1</td>\n",
              "    </tr>\n",
              "    <tr>\n",
              "      <th>4</th>\n",
              "      <td>1.51742</td>\n",
              "      <td>13.27</td>\n",
              "      <td>3.62</td>\n",
              "      <td>1.24</td>\n",
              "      <td>73.08</td>\n",
              "      <td>0.55</td>\n",
              "      <td>8.07</td>\n",
              "      <td>0.0</td>\n",
              "      <td>0.0</td>\n",
              "      <td>1</td>\n",
              "    </tr>\n",
              "  </tbody>\n",
              "</table>\n",
              "</div>\n",
              "      <button class=\"colab-df-convert\" onclick=\"convertToInteractive('df-d6856d16-da8c-4180-a63f-0046e09b058e')\"\n",
              "              title=\"Convert this dataframe to an interactive table.\"\n",
              "              style=\"display:none;\">\n",
              "        \n",
              "  <svg xmlns=\"http://www.w3.org/2000/svg\" height=\"24px\"viewBox=\"0 0 24 24\"\n",
              "       width=\"24px\">\n",
              "    <path d=\"M0 0h24v24H0V0z\" fill=\"none\"/>\n",
              "    <path d=\"M18.56 5.44l.94 2.06.94-2.06 2.06-.94-2.06-.94-.94-2.06-.94 2.06-2.06.94zm-11 1L8.5 8.5l.94-2.06 2.06-.94-2.06-.94L8.5 2.5l-.94 2.06-2.06.94zm10 10l.94 2.06.94-2.06 2.06-.94-2.06-.94-.94-2.06-.94 2.06-2.06.94z\"/><path d=\"M17.41 7.96l-1.37-1.37c-.4-.4-.92-.59-1.43-.59-.52 0-1.04.2-1.43.59L10.3 9.45l-7.72 7.72c-.78.78-.78 2.05 0 2.83L4 21.41c.39.39.9.59 1.41.59.51 0 1.02-.2 1.41-.59l7.78-7.78 2.81-2.81c.8-.78.8-2.07 0-2.86zM5.41 20L4 18.59l7.72-7.72 1.47 1.35L5.41 20z\"/>\n",
              "  </svg>\n",
              "      </button>\n",
              "      \n",
              "  <style>\n",
              "    .colab-df-container {\n",
              "      display:flex;\n",
              "      flex-wrap:wrap;\n",
              "      gap: 12px;\n",
              "    }\n",
              "\n",
              "    .colab-df-convert {\n",
              "      background-color: #E8F0FE;\n",
              "      border: none;\n",
              "      border-radius: 50%;\n",
              "      cursor: pointer;\n",
              "      display: none;\n",
              "      fill: #1967D2;\n",
              "      height: 32px;\n",
              "      padding: 0 0 0 0;\n",
              "      width: 32px;\n",
              "    }\n",
              "\n",
              "    .colab-df-convert:hover {\n",
              "      background-color: #E2EBFA;\n",
              "      box-shadow: 0px 1px 2px rgba(60, 64, 67, 0.3), 0px 1px 3px 1px rgba(60, 64, 67, 0.15);\n",
              "      fill: #174EA6;\n",
              "    }\n",
              "\n",
              "    [theme=dark] .colab-df-convert {\n",
              "      background-color: #3B4455;\n",
              "      fill: #D2E3FC;\n",
              "    }\n",
              "\n",
              "    [theme=dark] .colab-df-convert:hover {\n",
              "      background-color: #434B5C;\n",
              "      box-shadow: 0px 1px 3px 1px rgba(0, 0, 0, 0.15);\n",
              "      filter: drop-shadow(0px 1px 2px rgba(0, 0, 0, 0.3));\n",
              "      fill: #FFFFFF;\n",
              "    }\n",
              "  </style>\n",
              "\n",
              "      <script>\n",
              "        const buttonEl =\n",
              "          document.querySelector('#df-d6856d16-da8c-4180-a63f-0046e09b058e button.colab-df-convert');\n",
              "        buttonEl.style.display =\n",
              "          google.colab.kernel.accessAllowed ? 'block' : 'none';\n",
              "\n",
              "        async function convertToInteractive(key) {\n",
              "          const element = document.querySelector('#df-d6856d16-da8c-4180-a63f-0046e09b058e');\n",
              "          const dataTable =\n",
              "            await google.colab.kernel.invokeFunction('convertToInteractive',\n",
              "                                                     [key], {});\n",
              "          if (!dataTable) return;\n",
              "\n",
              "          const docLinkHtml = 'Like what you see? Visit the ' +\n",
              "            '<a target=\"_blank\" href=https://colab.research.google.com/notebooks/data_table.ipynb>data table notebook</a>'\n",
              "            + ' to learn more about interactive tables.';\n",
              "          element.innerHTML = '';\n",
              "          dataTable['output_type'] = 'display_data';\n",
              "          await google.colab.output.renderOutput(dataTable, element);\n",
              "          const docLink = document.createElement('div');\n",
              "          docLink.innerHTML = docLinkHtml;\n",
              "          element.appendChild(docLink);\n",
              "        }\n",
              "      </script>\n",
              "    </div>\n",
              "  </div>\n",
              "  "
            ]
          },
          "metadata": {},
          "execution_count": 1
        }
      ],
      "source": [
        "import pandas as pd\n",
        "import numpy as np\n",
        "import matplotlib.pyplot as plt\n",
        "import seaborn as sns\n",
        "from sklearn.preprocessing import MinMaxScaler\n",
        "from sklearn.preprocessing import StandardScaler\n",
        "from sklearn.model_selection import KFold\n",
        "from sklearn.neighbors import KNeighborsClassifier\n",
        "from sklearn.model_selection import cross_val_score\n",
        "from sklearn.model_selection import GridSearchCV\n",
        "\n",
        "import warnings\n",
        "warnings.filterwarnings(action='ignore')\n",
        "\n",
        "data = pd.read_csv('/content/glass.csv')\n",
        "data.head()"
      ]
    },
    {
      "cell_type": "code",
      "source": [
        "data.tail()"
      ],
      "metadata": {
        "colab": {
          "base_uri": "https://localhost:8080/",
          "height": 206
        },
        "id": "hQ2bU56c_dh3",
        "outputId": "66fff95b-9905-4303-e03c-fc5c540eca9c"
      },
      "execution_count": 3,
      "outputs": [
        {
          "output_type": "execute_result",
          "data": {
            "text/plain": [
              "          RI     Na   Mg    Al     Si     K    Ca    Ba   Fe  Type\n",
              "209  1.51623  14.14  0.0  2.88  72.61  0.08  9.18  1.06  0.0     7\n",
              "210  1.51685  14.92  0.0  1.99  73.06  0.00  8.40  1.59  0.0     7\n",
              "211  1.52065  14.36  0.0  2.02  73.42  0.00  8.44  1.64  0.0     7\n",
              "212  1.51651  14.38  0.0  1.94  73.61  0.00  8.48  1.57  0.0     7\n",
              "213  1.51711  14.23  0.0  2.08  73.36  0.00  8.62  1.67  0.0     7"
            ],
            "text/html": [
              "\n",
              "  <div id=\"df-f46a7d20-cf6b-40f4-a8c3-1309cac9409e\">\n",
              "    <div class=\"colab-df-container\">\n",
              "      <div>\n",
              "<style scoped>\n",
              "    .dataframe tbody tr th:only-of-type {\n",
              "        vertical-align: middle;\n",
              "    }\n",
              "\n",
              "    .dataframe tbody tr th {\n",
              "        vertical-align: top;\n",
              "    }\n",
              "\n",
              "    .dataframe thead th {\n",
              "        text-align: right;\n",
              "    }\n",
              "</style>\n",
              "<table border=\"1\" class=\"dataframe\">\n",
              "  <thead>\n",
              "    <tr style=\"text-align: right;\">\n",
              "      <th></th>\n",
              "      <th>RI</th>\n",
              "      <th>Na</th>\n",
              "      <th>Mg</th>\n",
              "      <th>Al</th>\n",
              "      <th>Si</th>\n",
              "      <th>K</th>\n",
              "      <th>Ca</th>\n",
              "      <th>Ba</th>\n",
              "      <th>Fe</th>\n",
              "      <th>Type</th>\n",
              "    </tr>\n",
              "  </thead>\n",
              "  <tbody>\n",
              "    <tr>\n",
              "      <th>209</th>\n",
              "      <td>1.51623</td>\n",
              "      <td>14.14</td>\n",
              "      <td>0.0</td>\n",
              "      <td>2.88</td>\n",
              "      <td>72.61</td>\n",
              "      <td>0.08</td>\n",
              "      <td>9.18</td>\n",
              "      <td>1.06</td>\n",
              "      <td>0.0</td>\n",
              "      <td>7</td>\n",
              "    </tr>\n",
              "    <tr>\n",
              "      <th>210</th>\n",
              "      <td>1.51685</td>\n",
              "      <td>14.92</td>\n",
              "      <td>0.0</td>\n",
              "      <td>1.99</td>\n",
              "      <td>73.06</td>\n",
              "      <td>0.00</td>\n",
              "      <td>8.40</td>\n",
              "      <td>1.59</td>\n",
              "      <td>0.0</td>\n",
              "      <td>7</td>\n",
              "    </tr>\n",
              "    <tr>\n",
              "      <th>211</th>\n",
              "      <td>1.52065</td>\n",
              "      <td>14.36</td>\n",
              "      <td>0.0</td>\n",
              "      <td>2.02</td>\n",
              "      <td>73.42</td>\n",
              "      <td>0.00</td>\n",
              "      <td>8.44</td>\n",
              "      <td>1.64</td>\n",
              "      <td>0.0</td>\n",
              "      <td>7</td>\n",
              "    </tr>\n",
              "    <tr>\n",
              "      <th>212</th>\n",
              "      <td>1.51651</td>\n",
              "      <td>14.38</td>\n",
              "      <td>0.0</td>\n",
              "      <td>1.94</td>\n",
              "      <td>73.61</td>\n",
              "      <td>0.00</td>\n",
              "      <td>8.48</td>\n",
              "      <td>1.57</td>\n",
              "      <td>0.0</td>\n",
              "      <td>7</td>\n",
              "    </tr>\n",
              "    <tr>\n",
              "      <th>213</th>\n",
              "      <td>1.51711</td>\n",
              "      <td>14.23</td>\n",
              "      <td>0.0</td>\n",
              "      <td>2.08</td>\n",
              "      <td>73.36</td>\n",
              "      <td>0.00</td>\n",
              "      <td>8.62</td>\n",
              "      <td>1.67</td>\n",
              "      <td>0.0</td>\n",
              "      <td>7</td>\n",
              "    </tr>\n",
              "  </tbody>\n",
              "</table>\n",
              "</div>\n",
              "      <button class=\"colab-df-convert\" onclick=\"convertToInteractive('df-f46a7d20-cf6b-40f4-a8c3-1309cac9409e')\"\n",
              "              title=\"Convert this dataframe to an interactive table.\"\n",
              "              style=\"display:none;\">\n",
              "        \n",
              "  <svg xmlns=\"http://www.w3.org/2000/svg\" height=\"24px\"viewBox=\"0 0 24 24\"\n",
              "       width=\"24px\">\n",
              "    <path d=\"M0 0h24v24H0V0z\" fill=\"none\"/>\n",
              "    <path d=\"M18.56 5.44l.94 2.06.94-2.06 2.06-.94-2.06-.94-.94-2.06-.94 2.06-2.06.94zm-11 1L8.5 8.5l.94-2.06 2.06-.94-2.06-.94L8.5 2.5l-.94 2.06-2.06.94zm10 10l.94 2.06.94-2.06 2.06-.94-2.06-.94-.94-2.06-.94 2.06-2.06.94z\"/><path d=\"M17.41 7.96l-1.37-1.37c-.4-.4-.92-.59-1.43-.59-.52 0-1.04.2-1.43.59L10.3 9.45l-7.72 7.72c-.78.78-.78 2.05 0 2.83L4 21.41c.39.39.9.59 1.41.59.51 0 1.02-.2 1.41-.59l7.78-7.78 2.81-2.81c.8-.78.8-2.07 0-2.86zM5.41 20L4 18.59l7.72-7.72 1.47 1.35L5.41 20z\"/>\n",
              "  </svg>\n",
              "      </button>\n",
              "      \n",
              "  <style>\n",
              "    .colab-df-container {\n",
              "      display:flex;\n",
              "      flex-wrap:wrap;\n",
              "      gap: 12px;\n",
              "    }\n",
              "\n",
              "    .colab-df-convert {\n",
              "      background-color: #E8F0FE;\n",
              "      border: none;\n",
              "      border-radius: 50%;\n",
              "      cursor: pointer;\n",
              "      display: none;\n",
              "      fill: #1967D2;\n",
              "      height: 32px;\n",
              "      padding: 0 0 0 0;\n",
              "      width: 32px;\n",
              "    }\n",
              "\n",
              "    .colab-df-convert:hover {\n",
              "      background-color: #E2EBFA;\n",
              "      box-shadow: 0px 1px 2px rgba(60, 64, 67, 0.3), 0px 1px 3px 1px rgba(60, 64, 67, 0.15);\n",
              "      fill: #174EA6;\n",
              "    }\n",
              "\n",
              "    [theme=dark] .colab-df-convert {\n",
              "      background-color: #3B4455;\n",
              "      fill: #D2E3FC;\n",
              "    }\n",
              "\n",
              "    [theme=dark] .colab-df-convert:hover {\n",
              "      background-color: #434B5C;\n",
              "      box-shadow: 0px 1px 3px 1px rgba(0, 0, 0, 0.15);\n",
              "      filter: drop-shadow(0px 1px 2px rgba(0, 0, 0, 0.3));\n",
              "      fill: #FFFFFF;\n",
              "    }\n",
              "  </style>\n",
              "\n",
              "      <script>\n",
              "        const buttonEl =\n",
              "          document.querySelector('#df-f46a7d20-cf6b-40f4-a8c3-1309cac9409e button.colab-df-convert');\n",
              "        buttonEl.style.display =\n",
              "          google.colab.kernel.accessAllowed ? 'block' : 'none';\n",
              "\n",
              "        async function convertToInteractive(key) {\n",
              "          const element = document.querySelector('#df-f46a7d20-cf6b-40f4-a8c3-1309cac9409e');\n",
              "          const dataTable =\n",
              "            await google.colab.kernel.invokeFunction('convertToInteractive',\n",
              "                                                     [key], {});\n",
              "          if (!dataTable) return;\n",
              "\n",
              "          const docLinkHtml = 'Like what you see? Visit the ' +\n",
              "            '<a target=\"_blank\" href=https://colab.research.google.com/notebooks/data_table.ipynb>data table notebook</a>'\n",
              "            + ' to learn more about interactive tables.';\n",
              "          element.innerHTML = '';\n",
              "          dataTable['output_type'] = 'display_data';\n",
              "          await google.colab.output.renderOutput(dataTable, element);\n",
              "          const docLink = document.createElement('div');\n",
              "          docLink.innerHTML = docLinkHtml;\n",
              "          element.appendChild(docLink);\n",
              "        }\n",
              "      </script>\n",
              "    </div>\n",
              "  </div>\n",
              "  "
            ]
          },
          "metadata": {},
          "execution_count": 3
        }
      ]
    },
    {
      "cell_type": "code",
      "source": [
        "data.shape"
      ],
      "metadata": {
        "colab": {
          "base_uri": "https://localhost:8080/"
        },
        "id": "FcZPDIpR_oYO",
        "outputId": "6932a8e4-2163-4c61-9070-ee8320a51351"
      },
      "execution_count": 4,
      "outputs": [
        {
          "output_type": "execute_result",
          "data": {
            "text/plain": [
              "(214, 10)"
            ]
          },
          "metadata": {},
          "execution_count": 4
        }
      ]
    },
    {
      "cell_type": "code",
      "source": [
        "data.info()"
      ],
      "metadata": {
        "colab": {
          "base_uri": "https://localhost:8080/"
        },
        "id": "waG9--qJ_qTa",
        "outputId": "75d3e53a-1840-4c92-813e-6d5c1472735b"
      },
      "execution_count": 25,
      "outputs": [
        {
          "output_type": "stream",
          "name": "stdout",
          "text": [
            "<class 'pandas.core.frame.DataFrame'>\n",
            "RangeIndex: 214 entries, 0 to 213\n",
            "Data columns (total 10 columns):\n",
            " #   Column  Non-Null Count  Dtype  \n",
            "---  ------  --------------  -----  \n",
            " 0   RI      214 non-null    float64\n",
            " 1   Na      214 non-null    float64\n",
            " 2   Mg      214 non-null    float64\n",
            " 3   Al      214 non-null    float64\n",
            " 4   Si      214 non-null    float64\n",
            " 5   K       214 non-null    float64\n",
            " 6   Ca      214 non-null    float64\n",
            " 7   Ba      214 non-null    float64\n",
            " 8   Fe      214 non-null    float64\n",
            " 9   Type    214 non-null    int64  \n",
            "dtypes: float64(9), int64(1)\n",
            "memory usage: 16.8 KB\n"
          ]
        }
      ]
    },
    {
      "cell_type": "markdown",
      "source": [
        "**EDA**"
      ],
      "metadata": {
        "id": "xfohahWh_wV0"
      }
    },
    {
      "cell_type": "code",
      "source": [
        "#check for missing values\n",
        "data.isna().sum()"
      ],
      "metadata": {
        "colab": {
          "base_uri": "https://localhost:8080/"
        },
        "id": "rUG9yJjD_sDO",
        "outputId": "6afd9e62-3ff0-4ee0-b7cc-78a918cedcac"
      },
      "execution_count": 6,
      "outputs": [
        {
          "output_type": "execute_result",
          "data": {
            "text/plain": [
              "RI      0\n",
              "Na      0\n",
              "Mg      0\n",
              "Al      0\n",
              "Si      0\n",
              "K       0\n",
              "Ca      0\n",
              "Ba      0\n",
              "Fe      0\n",
              "Type    0\n",
              "dtype: int64"
            ]
          },
          "metadata": {},
          "execution_count": 6
        }
      ]
    },
    {
      "cell_type": "code",
      "source": [
        "sns.heatmap(data.isna())"
      ],
      "metadata": {
        "colab": {
          "base_uri": "https://localhost:8080/",
          "height": 287
        },
        "id": "7Yc8lN_GAIX0",
        "outputId": "72b2b7b2-8b35-4d0f-e398-5261a786de38"
      },
      "execution_count": 26,
      "outputs": [
        {
          "output_type": "execute_result",
          "data": {
            "text/plain": [
              "<matplotlib.axes._subplots.AxesSubplot at 0x7f5ab99a1350>"
            ]
          },
          "metadata": {},
          "execution_count": 26
        },
        {
          "output_type": "display_data",
          "data": {
            "text/plain": [
              "<Figure size 432x288 with 2 Axes>"
            ],
            "image/png": "[encoded data removed]"
          },
          "metadata": {
            "needs_background": "light"
          }
        }
      ]
    },
    {
      "cell_type": "code",
      "source": [
        "#check for duplicate values\n",
        "data[data.duplicated()]"
      ],
      "metadata": {
        "colab": {
          "base_uri": "https://localhost:8080/",
          "height": 81
        },
        "id": "5xi5McXrALtW",
        "outputId": "b8c8af93-e284-4270-ff98-0f9d5e8f9210"
      },
      "execution_count": 8,
      "outputs": [
        {
          "output_type": "execute_result",
          "data": {
            "text/plain": [
              "         RI     Na    Mg    Al     Si     K    Ca   Ba   Fe  Type\n",
              "39  1.52213  14.21  3.82  0.47  71.77  0.11  9.57  0.0  0.0     1"
            ],
            "text/html": [
              "\n",
              "  <div id=\"df-9173ac09-7e62-423b-a9b2-d3637f7f6c30\">\n",
              "    <div class=\"colab-df-container\">\n",
              "      <div>\n",
              "<style scoped>\n",
              "    .dataframe tbody tr th:only-of-type {\n",
              "        vertical-align: middle;\n",
              "    }\n",
              "\n",
              "    .dataframe tbody tr th {\n",
              "        vertical-align: top;\n",
              "    }\n",
              "\n",
              "    .dataframe thead th {\n",
              "        text-align: right;\n",
              "    }\n",
              "</style>\n",
              "<table border=\"1\" class=\"dataframe\">\n",
              "  <thead>\n",
              "    <tr style=\"text-align: right;\">\n",
              "      <th></th>\n",
              "      <th>RI</th>\n",
              "      <th>Na</th>\n",
              "      <th>Mg</th>\n",
              "      <th>Al</th>\n",
              "      <th>Si</th>\n",
              "      <th>K</th>\n",
              "      <th>Ca</th>\n",
              "      <th>Ba</th>\n",
              "      <th>Fe</th>\n",
              "      <th>Type</th>\n",
              "    </tr>\n",
              "  </thead>\n",
              "  <tbody>\n",
              "    <tr>\n",
              "      <th>39</th>\n",
              "      <td>1.52213</td>\n",
              "      <td>14.21</td>\n",
              "      <td>3.82</td>\n",
              "      <td>0.47</td>\n",
              "      <td>71.77</td>\n",
              "      <td>0.11</td>\n",
              "      <td>9.57</td>\n",
              "      <td>0.0</td>\n",
              "      <td>0.0</td>\n",
              "      <td>1</td>\n",
              "    </tr>\n",
              "  </tbody>\n",
              "</table>\n",
              "</div>\n",
              "      <button class=\"colab-df-convert\" onclick=\"convertToInteractive('df-9173ac09-7e62-423b-a9b2-d3637f7f6c30')\"\n",
              "              title=\"Convert this dataframe to an interactive table.\"\n",
              "              style=\"display:none;\">\n",
              "        \n",
              "  <svg xmlns=\"http://www.w3.org/2000/svg\" height=\"24px\"viewBox=\"0 0 24 24\"\n",
              "       width=\"24px\">\n",
              "    <path d=\"M0 0h24v24H0V0z\" fill=\"none\"/>\n",
              "    <path d=\"M18.56 5.44l.94 2.06.94-2.06 2.06-.94-2.06-.94-.94-2.06-.94 2.06-2.06.94zm-11 1L8.5 8.5l.94-2.06 2.06-.94-2.06-.94L8.5 2.5l-.94 2.06-2.06.94zm10 10l.94 2.06.94-2.06 2.06-.94-2.06-.94-.94-2.06-.94 2.06-2.06.94z\"/><path d=\"M17.41 7.96l-1.37-1.37c-.4-.4-.92-.59-1.43-.59-.52 0-1.04.2-1.43.59L10.3 9.45l-7.72 7.72c-.78.78-.78 2.05 0 2.83L4 21.41c.39.39.9.59 1.41.59.51 0 1.02-.2 1.41-.59l7.78-7.78 2.81-2.81c.8-.78.8-2.07 0-2.86zM5.41 20L4 18.59l7.72-7.72 1.47 1.35L5.41 20z\"/>\n",
              "  </svg>\n",
              "      </button>\n",
              "      \n",
              "  <style>\n",
              "    .colab-df-container {\n",
              "      display:flex;\n",
              "      flex-wrap:wrap;\n",
              "      gap: 12px;\n",
              "    }\n",
              "\n",
              "    .colab-df-convert {\n",
              "      background-color: #E8F0FE;\n",
              "      border: none;\n",
              "      border-radius: 50%;\n",
              "      cursor: pointer;\n",
              "      display: none;\n",
              "      fill: #1967D2;\n",
              "      height: 32px;\n",
              "      padding: 0 0 0 0;\n",
              "      width: 32px;\n",
              "    }\n",
              "\n",
              "    .colab-df-convert:hover {\n",
              "      background-color: #E2EBFA;\n",
              "      box-shadow: 0px 1px 2px rgba(60, 64, 67, 0.3), 0px 1px 3px 1px rgba(60, 64, 67, 0.15);\n",
              "      fill: #174EA6;\n",
              "    }\n",
              "\n",
              "    [theme=dark] .colab-df-convert {\n",
              "      background-color: #3B4455;\n",
              "      fill: #D2E3FC;\n",
              "    }\n",
              "\n",
              "    [theme=dark] .colab-df-convert:hover {\n",
              "      background-color: #434B5C;\n",
              "      box-shadow: 0px 1px 3px 1px rgba(0, 0, 0, 0.15);\n",
              "      filter: drop-shadow(0px 1px 2px rgba(0, 0, 0, 0.3));\n",
              "      fill: #FFFFFF;\n",
              "    }\n",
              "  </style>\n",
              "\n",
              "      <script>\n",
              "        const buttonEl =\n",
              "          document.querySelector('#df-9173ac09-7e62-423b-a9b2-d3637f7f6c30 button.colab-df-convert');\n",
              "        buttonEl.style.display =\n",
              "          google.colab.kernel.accessAllowed ? 'block' : 'none';\n",
              "\n",
              "        async function convertToInteractive(key) {\n",
              "          const element = document.querySelector('#df-9173ac09-7e62-423b-a9b2-d3637f7f6c30');\n",
              "          const dataTable =\n",
              "            await google.colab.kernel.invokeFunction('convertToInteractive',\n",
              "                                                     [key], {});\n",
              "          if (!dataTable) return;\n",
              "\n",
              "          const docLinkHtml = 'Like what you see? Visit the ' +\n",
              "            '<a target=\"_blank\" href=https://colab.research.google.com/notebooks/data_table.ipynb>data table notebook</a>'\n",
              "            + ' to learn more about interactive tables.';\n",
              "          element.innerHTML = '';\n",
              "          dataTable['output_type'] = 'display_data';\n",
              "          await google.colab.output.renderOutput(dataTable, element);\n",
              "          const docLink = document.createElement('div');\n",
              "          docLink.innerHTML = docLinkHtml;\n",
              "          element.appendChild(docLink);\n",
              "        }\n",
              "      </script>\n",
              "    </div>\n",
              "  </div>\n",
              "  "
            ]
          },
          "metadata": {},
          "execution_count": 8
        }
      ]
    },
    {
      "cell_type": "code",
      "source": [
        "#check if any incorrect data type\n",
        "data.dtypes"
      ],
      "metadata": {
        "colab": {
          "base_uri": "https://localhost:8080/"
        },
        "id": "fPPhdD_jATrK",
        "outputId": "08d968a6-309e-4c86-fbf3-cdf9357968f2"
      },
      "execution_count": 9,
      "outputs": [
        {
          "output_type": "execute_result",
          "data": {
            "text/plain": [
              "RI      float64\n",
              "Na      float64\n",
              "Mg      float64\n",
              "Al      float64\n",
              "Si      float64\n",
              "K       float64\n",
              "Ca      float64\n",
              "Ba      float64\n",
              "Fe      float64\n",
              "Type      int64\n",
              "dtype: object"
            ]
          },
          "metadata": {},
          "execution_count": 9
        }
      ]
    },
    {
      "cell_type": "markdown",
      "source": [
        "- We can conclude there is no missing values in our data.\n",
        "\n",
        "- All the columns data types are correct.\n",
        "\n",
        "- There is one duplicate value in our data, we will drop the value while data preprocessing."
      ],
      "metadata": {
        "id": "SjMW7JweAfZJ"
      }
    },
    {
      "cell_type": "code",
      "source": [
        "data.describe()"
      ],
      "metadata": {
        "colab": {
          "base_uri": "https://localhost:8080/",
          "height": 300
        },
        "id": "qIk7eXPcAePn",
        "outputId": "c97b1a71-da18-4655-a800-8b4baf48ea47"
      },
      "execution_count": 10,
      "outputs": [
        {
          "output_type": "execute_result",
          "data": {
            "text/plain": [
              "               RI          Na          Mg          Al          Si           K  \\\n",
              "count  214.000000  214.000000  214.000000  214.000000  214.000000  214.000000   \n",
              "mean     1.518365   13.407850    2.684533    1.444907   72.650935    0.497056   \n",
              "std      0.003037    0.816604    1.442408    0.499270    0.774546    0.652192   \n",
              "min      1.511150   10.730000    0.000000    0.290000   69.810000    0.000000   \n",
              "25%      1.516522   12.907500    2.115000    1.190000   72.280000    0.122500   \n",
              "50%      1.517680   13.300000    3.480000    1.360000   72.790000    0.555000   \n",
              "75%      1.519157   13.825000    3.600000    1.630000   73.087500    0.610000   \n",
              "max      1.533930   17.380000    4.490000    3.500000   75.410000    6.210000   \n",
              "\n",
              "               Ca          Ba          Fe        Type  \n",
              "count  214.000000  214.000000  214.000000  214.000000  \n",
              "mean     8.956963    0.175047    0.057009    2.780374  \n",
              "std      1.423153    0.497219    0.097439    2.103739  \n",
              "min      5.430000    0.000000    0.000000    1.000000  \n",
              "25%      8.240000    0.000000    0.000000    1.000000  \n",
              "50%      8.600000    0.000000    0.000000    2.000000  \n",
              "75%      9.172500    0.000000    0.100000    3.000000  \n",
              "max     16.190000    3.150000    0.510000    7.000000  "
            ],
            "text/html": [
              "\n",
              "  <div id=\"df-2758f015-3dc0-4f5d-9bee-65b01112012c\">\n",
              "    <div class=\"colab-df-container\">\n",
              "      <div>\n",
              "<style scoped>\n",
              "    .dataframe tbody tr th:only-of-type {\n",
              "        vertical-align: middle;\n",
              "    }\n",
              "\n",
              "    .dataframe tbody tr th {\n",
              "        vertical-align: top;\n",
              "    }\n",
              "\n",
              "    .dataframe thead th {\n",
              "        text-align: right;\n",
              "    }\n",
              "</style>\n",
              "<table border=\"1\" class=\"dataframe\">\n",
              "  <thead>\n",
              "    <tr style=\"text-align: right;\">\n",
              "      <th></th>\n",
              "      <th>RI</th>\n",
              "      <th>Na</th>\n",
              "      <th>Mg</th>\n",
              "      <th>Al</th>\n",
              "      <th>Si</th>\n",
              "      <th>K</th>\n",
              "      <th>Ca</th>\n",
              "      <th>Ba</th>\n",
              "      <th>Fe</th>\n",
              "      <th>Type</th>\n",
              "    </tr>\n",
              "  </thead>\n",
              "  <tbody>\n",
              "    <tr>\n",
              "      <th>count</th>\n",
              "      <td>214.000000</td>\n",
              "      <td>214.000000</td>\n",
              "      <td>214.000000</td>\n",
              "      <td>214.000000</td>\n",
              "      <td>214.000000</td>\n",
              "      <td>214.000000</td>\n",
              "      <td>214.000000</td>\n",
              "      <td>214.000000</td>\n",
              "      <td>214.000000</td>\n",
              "      <td>214.000000</td>\n",
              "    </tr>\n",
              "    <tr>\n",
              "      <th>mean</th>\n",
              "      <td>1.518365</td>\n",
              "      <td>13.407850</td>\n",
              "      <td>2.684533</td>\n",
              "      <td>1.444907</td>\n",
              "      <td>72.650935</td>\n",
              "      <td>0.497056</td>\n",
              "      <td>8.956963</td>\n",
              "      <td>0.175047</td>\n",
              "      <td>0.057009</td>\n",
              "      <td>2.780374</td>\n",
              "    </tr>\n",
              "    <tr>\n",
              "      <th>std</th>\n",
              "      <td>0.003037</td>\n",
              "      <td>0.816604</td>\n",
              "      <td>1.442408</td>\n",
              "      <td>0.499270</td>\n",
              "      <td>0.774546</td>\n",
              "      <td>0.652192</td>\n",
              "      <td>1.423153</td>\n",
              "      <td>0.497219</td>\n",
              "      <td>0.097439</td>\n",
              "      <td>2.103739</td>\n",
              "    </tr>\n",
              "    <tr>\n",
              "      <th>min</th>\n",
              "      <td>1.511150</td>\n",
              "      <td>10.730000</td>\n",
              "      <td>0.000000</td>\n",
              "      <td>0.290000</td>\n",
              "      <td>69.810000</td>\n",
              "      <td>0.000000</td>\n",
              "      <td>5.430000</td>\n",
              "      <td>0.000000</td>\n",
              "      <td>0.000000</td>\n",
              "      <td>1.000000</td>\n",
              "    </tr>\n",
              "    <tr>\n",
              "      <th>25%</th>\n",
              "      <td>1.516522</td>\n",
              "      <td>12.907500</td>\n",
              "      <td>2.115000</td>\n",
              "      <td>1.190000</td>\n",
              "      <td>72.280000</td>\n",
              "      <td>0.122500</td>\n",
              "      <td>8.240000</td>\n",
              "      <td>0.000000</td>\n",
              "      <td>0.000000</td>\n",
              "      <td>1.000000</td>\n",
              "    </tr>\n",
              "    <tr>\n",
              "      <th>50%</th>\n",
              "      <td>1.517680</td>\n",
              "      <td>13.300000</td>\n",
              "      <td>3.480000</td>\n",
              "      <td>1.360000</td>\n",
              "      <td>72.790000</td>\n",
              "      <td>0.555000</td>\n",
              "      <td>8.600000</td>\n",
              "      <td>0.000000</td>\n",
              "      <td>0.000000</td>\n",
              "      <td>2.000000</td>\n",
              "    </tr>\n",
              "    <tr>\n",
              "      <th>75%</th>\n",
              "      <td>1.519157</td>\n",
              "      <td>13.825000</td>\n",
              "      <td>3.600000</td>\n",
              "      <td>1.630000</td>\n",
              "      <td>73.087500</td>\n",
              "      <td>0.610000</td>\n",
              "      <td>9.172500</td>\n",
              "      <td>0.000000</td>\n",
              "      <td>0.100000</td>\n",
              "      <td>3.000000</td>\n",
              "    </tr>\n",
              "    <tr>\n",
              "      <th>max</th>\n",
              "      <td>1.533930</td>\n",
              "      <td>17.380000</td>\n",
              "      <td>4.490000</td>\n",
              "      <td>3.500000</td>\n",
              "      <td>75.410000</td>\n",
              "      <td>6.210000</td>\n",
              "      <td>16.190000</td>\n",
              "      <td>3.150000</td>\n",
              "      <td>0.510000</td>\n",
              "      <td>7.000000</td>\n",
              "    </tr>\n",
              "  </tbody>\n",
              "</table>\n",
              "</div>\n",
              "      <button class=\"colab-df-convert\" onclick=\"convertToInteractive('df-2758f015-3dc0-4f5d-9bee-65b01112012c')\"\n",
              "              title=\"Convert this dataframe to an interactive table.\"\n",
              "              style=\"display:none;\">\n",
              "        \n",
              "  <svg xmlns=\"http://www.w3.org/2000/svg\" height=\"24px\"viewBox=\"0 0 24 24\"\n",
              "       width=\"24px\">\n",
              "    <path d=\"M0 0h24v24H0V0z\" fill=\"none\"/>\n",
              "    <path d=\"M18.56 5.44l.94 2.06.94-2.06 2.06-.94-2.06-.94-.94-2.06-.94 2.06-2.06.94zm-11 1L8.5 8.5l.94-2.06 2.06-.94-2.06-.94L8.5 2.5l-.94 2.06-2.06.94zm10 10l.94 2.06.94-2.06 2.06-.94-2.06-.94-.94-2.06-.94 2.06-2.06.94z\"/><path d=\"M17.41 7.96l-1.37-1.37c-.4-.4-.92-.59-1.43-.59-.52 0-1.04.2-1.43.59L10.3 9.45l-7.72 7.72c-.78.78-.78 2.05 0 2.83L4 21.41c.39.39.9.59 1.41.59.51 0 1.02-.2 1.41-.59l7.78-7.78 2.81-2.81c.8-.78.8-2.07 0-2.86zM5.41 20L4 18.59l7.72-7.72 1.47 1.35L5.41 20z\"/>\n",
              "  </svg>\n",
              "      </button>\n",
              "      \n",
              "  <style>\n",
              "    .colab-df-container {\n",
              "      display:flex;\n",
              "      flex-wrap:wrap;\n",
              "      gap: 12px;\n",
              "    }\n",
              "\n",
              "    .colab-df-convert {\n",
              "      background-color: #E8F0FE;\n",
              "      border: none;\n",
              "      border-radius: 50%;\n",
              "      cursor: pointer;\n",
              "      display: none;\n",
              "      fill: #1967D2;\n",
              "      height: 32px;\n",
              "      padding: 0 0 0 0;\n",
              "      width: 32px;\n",
              "    }\n",
              "\n",
              "    .colab-df-convert:hover {\n",
              "      background-color: #E2EBFA;\n",
              "      box-shadow: 0px 1px 2px rgba(60, 64, 67, 0.3), 0px 1px 3px 1px rgba(60, 64, 67, 0.15);\n",
              "      fill: #174EA6;\n",
              "    }\n",
              "\n",
              "    [theme=dark] .colab-df-convert {\n",
              "      background-color: #3B4455;\n",
              "      fill: #D2E3FC;\n",
              "    }\n",
              "\n",
              "    [theme=dark] .colab-df-convert:hover {\n",
              "      background-color: #434B5C;\n",
              "      box-shadow: 0px 1px 3px 1px rgba(0, 0, 0, 0.15);\n",
              "      filter: drop-shadow(0px 1px 2px rgba(0, 0, 0, 0.3));\n",
              "      fill: #FFFFFF;\n",
              "    }\n",
              "  </style>\n",
              "\n",
              "      <script>\n",
              "        const buttonEl =\n",
              "          document.querySelector('#df-2758f015-3dc0-4f5d-9bee-65b01112012c button.colab-df-convert');\n",
              "        buttonEl.style.display =\n",
              "          google.colab.kernel.accessAllowed ? 'block' : 'none';\n",
              "\n",
              "        async function convertToInteractive(key) {\n",
              "          const element = document.querySelector('#df-2758f015-3dc0-4f5d-9bee-65b01112012c');\n",
              "          const dataTable =\n",
              "            await google.colab.kernel.invokeFunction('convertToInteractive',\n",
              "                                                     [key], {});\n",
              "          if (!dataTable) return;\n",
              "\n",
              "          const docLinkHtml = 'Like what you see? Visit the ' +\n",
              "            '<a target=\"_blank\" href=https://colab.research.google.com/notebooks/data_table.ipynb>data table notebook</a>'\n",
              "            + ' to learn more about interactive tables.';\n",
              "          element.innerHTML = '';\n",
              "          dataTable['output_type'] = 'display_data';\n",
              "          await google.colab.output.renderOutput(dataTable, element);\n",
              "          const docLink = document.createElement('div');\n",
              "          docLink.innerHTML = docLinkHtml;\n",
              "          element.appendChild(docLink);\n",
              "        }\n",
              "      </script>\n",
              "    </div>\n",
              "  </div>\n",
              "  "
            ]
          },
          "metadata": {},
          "execution_count": 10
        }
      ]
    },
    {
      "cell_type": "code",
      "source": [
        "data.Type.value_counts()"
      ],
      "metadata": {
        "colab": {
          "base_uri": "https://localhost:8080/"
        },
        "id": "6I7jvx3RA3Xt",
        "outputId": "4f655af1-fce3-4e9c-9075-29e4dfd88983"
      },
      "execution_count": 11,
      "outputs": [
        {
          "output_type": "execute_result",
          "data": {
            "text/plain": [
              "2    76\n",
              "1    70\n",
              "7    29\n",
              "3    17\n",
              "5    13\n",
              "6     9\n",
              "Name: Type, dtype: int64"
            ]
          },
          "metadata": {},
          "execution_count": 11
        }
      ]
    },
    {
      "cell_type": "code",
      "source": [
        "data.Type.unique()"
      ],
      "metadata": {
        "colab": {
          "base_uri": "https://localhost:8080/"
        },
        "id": "47kQIEoGBPuA",
        "outputId": "d06a7e3c-9b3a-4630-b9d7-7d7fd689f003"
      },
      "execution_count": 12,
      "outputs": [
        {
          "output_type": "execute_result",
          "data": {
            "text/plain": [
              "array([1, 2, 3, 5, 6, 7])"
            ]
          },
          "metadata": {},
          "execution_count": 12
        }
      ]
    },
    {
      "cell_type": "code",
      "source": [
        "data.columns"
      ],
      "metadata": {
        "colab": {
          "base_uri": "https://localhost:8080/"
        },
        "id": "jufzRX6ACDMo",
        "outputId": "c2d3b198-8a81-40d4-b472-f5c8800a761c"
      },
      "execution_count": 13,
      "outputs": [
        {
          "output_type": "execute_result",
          "data": {
            "text/plain": [
              "Index(['RI', 'Na', 'Mg', 'Al', 'Si', 'K', 'Ca', 'Ba', 'Fe', 'Type'], dtype='object')"
            ]
          },
          "metadata": {},
          "execution_count": 13
        }
      ]
    },
    {
      "cell_type": "markdown",
      "source": [
        "**Data Visualisation**"
      ],
      "metadata": {
        "id": "Bp_YKe9sB4xQ"
      }
    },
    {
      "cell_type": "code",
      "source": [
        "#Univariate Analysis\n",
        "\n",
        "fig, ax=plt.subplots(3, 3,figsize=(15,10),sharex=False,sharey=False)\n",
        "sns.distplot(data.RI, ax=ax[0,0])\n",
        "sns.distplot(data.Na, ax=ax[0,1])\n",
        "sns.distplot(data.Mg, ax=ax[0,2])\n",
        "sns.distplot(data.Al, ax=ax[1,0])\n",
        "sns.distplot(data.Si, ax=ax[1,1])\n",
        "sns.distplot(data.K, ax=ax[1,2])\n",
        "sns.distplot(data.Ca, ax=ax[2,0])\n",
        "sns.distplot(data.Ba, ax=ax[2,1])\n",
        "sns.distplot(data.Fe, ax=ax[2,2])\n",
        "plt.suptitle(\"Distribution plots of Continuous Variable in our data\", fontsize = 17, y =1.06)\n",
        "plt.tight_layout(pad=2.0)"
      ],
      "metadata": {
        "colab": {
          "base_uri": "https://localhost:8080/",
          "height": 774
        },
        "id": "RgdhIcATB0DV",
        "outputId": "8d171581-2ea2-49ef-c490-e6471f745d13"
      },
      "execution_count": 28,
      "outputs": [
        {
          "output_type": "display_data",
          "data": {
            "text/plain": [
              "<Figure size 1080x720 with 9 Axes>"
            ],
            "image/png": "[encoded data removed]"
          },
          "metadata": {
            "needs_background": "light"
          }
        }
      ]
    },
    {
      "cell_type": "markdown",
      "source": [
        "- There are definitely outliers in Fe, Ba, K.\n",
        "\n",
        "- Ca, Al, Si, Ri, Na are fairly Normally distributed."
      ],
      "metadata": {
        "id": "-Hd8d-pGDM4t"
      }
    },
    {
      "cell_type": "code",
      "source": [
        "#check for outliers by boxplot\n",
        "fig, ax=plt.subplots(3,3, figsize=(15,10), sharex= False, sharey = False)\n",
        "sns.boxplot(data.RI, ax=ax[0,0])\n",
        "sns.boxplot(data.Na, ax=ax[0,1])\n",
        "sns.boxplot(data.Mg, ax=ax[0,2])\n",
        "sns.boxplot(data.Al, ax=ax[1,0])\n",
        "sns.boxplot(data.Si, ax=ax[1,1])\n",
        "sns.boxplot(data.K, ax=ax[1,2])\n",
        "sns.boxplot(data.Ca, ax=ax[2,0])\n",
        "sns.boxplot(data.Ba, ax=ax[2,1])\n",
        "sns.boxplot(data.Fe, ax=ax[2,2])\n",
        "plt.suptitle(\"Boxplot for Continuous Variables\", fontsize= 17, y = 1.06)\n",
        "plt.tight_layout(pad=2.0)"
      ],
      "metadata": {
        "colab": {
          "base_uri": "https://localhost:8080/",
          "height": 774
        },
        "id": "swpVIVAxCjqK",
        "outputId": "2c7b4e7b-453e-4f5b-f874-c1c69b697ef8"
      },
      "execution_count": 31,
      "outputs": [
        {
          "output_type": "display_data",
          "data": {
            "text/plain": [
              "<Figure size 1080x720 with 9 Axes>"
            ],
            "image/png": "[encoded data removed]"
          },
          "metadata": {
            "needs_background": "light"
          }
        }
      ]
    },
    {
      "cell_type": "markdown",
      "source": [
        "- Our data is very Noisy."
      ],
      "metadata": {
        "id": "DI4A-Kc8F-xQ"
      }
    },
    {
      "cell_type": "code",
      "source": [
        "#Let us try log, sqrt and cbrt tranformation on our data\n",
        "fig, axes=plt.subplots(3,3, figsize=(15,10), sharex=False, sharey=False)\n",
        "sns.boxplot(np.log(data.RI), ax=axes[0,0])\n",
        "sns.boxplot(np.log(data.Na), ax=axes[0,1])\n",
        "sns.boxplot(np.log(data.Mg), ax=axes[0,2])\n",
        "sns.boxplot(np.log(data.Al), ax=axes[1,0])\n",
        "sns.boxplot(np.log(data.Si), ax=axes[1,1])\n",
        "sns.boxplot(np.log(data.K), ax=axes[1,2])\n",
        "sns.boxplot(np.log(data.Ca), ax=axes[2,0])\n",
        "sns.boxplot(np.log(data.Ba), ax=axes[2,1])\n",
        "sns.boxplot(np.log(data.Fe), ax=axes[2,2])\n",
        "plt.suptitle(\"Log Transformation on Continuous variable\", fontsize =17, y = 1.06)\n",
        "plt.tight_layout(pad=2.0)"
      ],
      "metadata": {
        "colab": {
          "base_uri": "https://localhost:8080/",
          "height": 774
        },
        "id": "zRN-sb0RFpEG",
        "outputId": "4a88cfa5-4b57-4886-c95b-03606f3298f9"
      },
      "execution_count": 34,
      "outputs": [
        {
          "output_type": "display_data",
          "data": {
            "text/plain": [
              "<Figure size 1080x720 with 9 Axes>"
            ],
            "image/png": "[encoded data removed]"
          },
          "metadata": {
            "needs_background": "light"
          }
        }
      ]
    },
    {
      "cell_type": "code",
      "source": [
        "fig, axes=plt.subplots(3,3, figsize=(15,10), sharex=False, sharey=False)\n",
        "sns.boxplot(np.sqrt(data.RI), ax=axes[0,0])\n",
        "sns.boxplot(np.sqrt(data.Na), ax=axes[0,1])\n",
        "sns.boxplot(np.sqrt(data.Mg), ax=axes[0,2])\n",
        "sns.boxplot(np.sqrt(data.Al), ax=axes[1,0])\n",
        "sns.boxplot(np.sqrt(data.Si), ax=axes[1,1])\n",
        "sns.boxplot(np.sqrt(data.K), ax=axes[1,2])\n",
        "sns.boxplot(np.sqrt(data.Ca), ax=axes[2,0])\n",
        "sns.boxplot(np.sqrt(data.Ba), ax=axes[2,1])\n",
        "sns.boxplot(np.sqrt(data.Fe), ax=axes[2,2])\n",
        "plt.suptitle(\"Squareroot Transformation on Continuous variable\", fontsize =17, y = 1.06)\n",
        "plt.tight_layout(pad=2.0)"
      ],
      "metadata": {
        "colab": {
          "base_uri": "https://localhost:8080/",
          "height": 774
        },
        "id": "HCpdtx6nK4UN",
        "outputId": "48035cb2-a266-4245-daa9-1823e19fe33e"
      },
      "execution_count": 38,
      "outputs": [
        {
          "output_type": "display_data",
          "data": {
            "text/plain": [
              "<Figure size 1080x720 with 9 Axes>"
            ],
            "image/png": "[encoded data removed]"
          },
          "metadata": {
            "needs_background": "light"
          }
        }
      ]
    },
    {
      "cell_type": "code",
      "source": [
        "fig, axes=plt.subplots(3,3, figsize=(15,10), sharex=False, sharey=False)\n",
        "sns.boxplot(np.cbrt(data.RI), ax=axes[0,0])\n",
        "sns.boxplot(np.cbrt(data.Na), ax=axes[0,1])\n",
        "sns.boxplot(np.cbrt(data.Mg), ax=axes[0,2])\n",
        "sns.boxplot(np.cbrt(data.Al), ax=axes[1,0])\n",
        "sns.boxplot(np.cbrt(data.Si), ax=axes[1,1])\n",
        "sns.boxplot(np.cbrt(data.K), ax=axes[1,2])\n",
        "sns.boxplot(np.cbrt(data.Ca), ax=axes[2,0])\n",
        "sns.boxplot(np.cbrt(data.Ba), ax=axes[2,1])\n",
        "sns.boxplot(np.cbrt(data.Fe), ax=axes[2,2])\n",
        "plt.suptitle(\"Cuberoot Transformation on Continuous variable\", fontsize =17, y = 1.06)\n",
        "plt.tight_layout(pad=2.0)"
      ],
      "metadata": {
        "colab": {
          "base_uri": "https://localhost:8080/",
          "height": 774
        },
        "id": "nkcFmiwXLYap",
        "outputId": "611d4627-69b4-42fb-9bf0-6bf30a051021"
      },
      "execution_count": 37,
      "outputs": [
        {
          "output_type": "display_data",
          "data": {
            "text/plain": [
              "<Figure size 1080x720 with 9 Axes>"
            ],
            "image/png": "[encoded data removed]"
          },
          "metadata": {
            "needs_background": "light"
          }
        }
      ]
    },
    {
      "cell_type": "markdown",
      "source": [
        "- None of the transformation is helpful in treating outliers."
      ],
      "metadata": {
        "id": "z1lHlH2AL7x3"
      }
    },
    {
      "cell_type": "code",
      "source": [
        "#visualisation of categorical variable\n",
        "sns.barplot(x=data.Type.unique(), y = data.Type.value_counts())\n",
        "plt.title(\"Count of different Type of Glass\", fontsize =17, y = 1.05)\n",
        "print(data.Type.value_counts())"
      ],
      "metadata": {
        "colab": {
          "base_uri": "https://localhost:8080/",
          "height": 418
        },
        "id": "i8ilq-56LmlS",
        "outputId": "821b8257-90f3-42a2-c74d-274fa28d6240"
      },
      "execution_count": 43,
      "outputs": [
        {
          "output_type": "stream",
          "name": "stdout",
          "text": [
            "2    76\n",
            "1    70\n",
            "7    29\n",
            "3    17\n",
            "5    13\n",
            "6     9\n",
            "Name: Type, dtype: int64\n"
          ]
        },
        {
          "output_type": "display_data",
          "data": {
            "text/plain": [
              "<Figure size 432x288 with 1 Axes>"
            ],
            "image/png": "[encoded data removed]"
          },
          "metadata": {
            "needs_background": "light"
          }
        }
      ]
    },
    {
      "cell_type": "code",
      "source": [
        "plt.pie(data.Type.value_counts(), labels=data.Type.unique() , explode=(0.3,0,0,0,0,0), shadow=True, )\n",
        "plt.title(\"Different Types of Glass\", fontsize=15, y= 1.06)\n",
        "print('The % of each Type of glass in data:\\n',(data.Type.value_counts()/214)*100)"
      ],
      "metadata": {
        "colab": {
          "base_uri": "https://localhost:8080/",
          "height": 418
        },
        "id": "feFS5DGXNOlA",
        "outputId": "c776d9fb-3f7d-44f4-8556-d151a3560c91"
      },
      "execution_count": 58,
      "outputs": [
        {
          "output_type": "stream",
          "name": "stdout",
          "text": [
            "The % of each Type of glass in data:\n",
            " 2    35.514019\n",
            "1    32.710280\n",
            "7    13.551402\n",
            "3     7.943925\n",
            "5     6.074766\n",
            "6     4.205607\n",
            "Name: Type, dtype: float64\n"
          ]
        },
        {
          "output_type": "display_data",
          "data": {
            "text/plain": [
              "<Figure size 432x288 with 1 Axes>"
            ],
            "image/png": "[encoded data removed]"
          },
          "metadata": {}
        }
      ]
    },
    {
      "cell_type": "markdown",
      "source": [
        "- Max num of data is of glass type 1.\n",
        "\n",
        "- Min num of data is of glass type 6."
      ],
      "metadata": {
        "id": "O4anpThKSYG3"
      }
    },
    {
      "cell_type": "code",
      "source": [
        "#Multivariate Analysis\n",
        "fig, ax=plt.subplots(3,3, figsize=(15,10), sharex = False, sharey=False)\n",
        "sns.histplot(x=data.Type, y=data.RI, ax=ax[0,0])\n",
        "sns.histplot(x=data.Type, y=data.Na, ax=ax[0,1])\n",
        "sns.histplot(x=data.Type, y=data.Mg, ax=ax[0,2])\n",
        "sns.histplot(x=data.Type, y=data.Al, ax=ax[1,0])\n",
        "sns.histplot(x=data.Type, y=data.Si, ax=ax[1,1])\n",
        "sns.histplot(x=data.Type, y=data.K, ax=ax[1,2])\n",
        "sns.histplot(x=data.Type, y=data.Ca, ax=ax[2,0])\n",
        "sns.histplot(x=data.Type, y=data.Ba, ax=ax[2,1])\n",
        "sns.histplot(x=data.Type, y=data.Fe, ax=ax[2,2])\n",
        "plt.suptitle(\"Distribution of each Feature in different type of glasses\", fontsize=17, y = 1.05)\n",
        "plt.tight_layout(pad=2.0)"
      ],
      "metadata": {
        "colab": {
          "base_uri": "https://localhost:8080/",
          "height": 767
        },
        "id": "W-Scz3Y0N3fV",
        "outputId": "b1a2683a-ffd8-4775-f278-2358ceeceffe"
      },
      "execution_count": 132,
      "outputs": [
        {
          "output_type": "display_data",
          "data": {
            "text/plain": [
              "<Figure size 1080x720 with 9 Axes>"
            ],
            "image/png": "[encoded data removed]"
          },
          "metadata": {
            "needs_background": "light"
          }
        }
      ]
    },
    {
      "cell_type": "markdown",
      "source": [
        "- All glasses have almost similar Average Refractive Index(RI).\n",
        "\n",
        "- All glasses have very high content of Ca, Na, Si.\n",
        "\n",
        "- Average Ba content in glasses 1,2,3,6 is very low. \n",
        "\n",
        "- Average Fe content in glasses 6,7 is very low. \n",
        "\n",
        "- Average K content in glasses 1,2,3,6,7 is comparitively low.\n",
        "\n",
        "- Average Mg content in 5, 7 is comparitively low."
      ],
      "metadata": {
        "id": "KpDbdoJuZY7B"
      }
    },
    {
      "cell_type": "code",
      "source": [
        "df = pd.DataFrame(data = data[data.Type==1].mean(), index=data.columns)\n",
        "df = df.drop('Type', axis=0)"
      ],
      "metadata": {
        "id": "lePgbwFgcdvI"
      },
      "execution_count": null,
      "outputs": []
    },
    {
      "cell_type": "code",
      "source": [
        "plt.title(\"Average of each feature in Glass Type 1\", y=1.05, fontsize=15)\n",
        "sns.barplot(x=df.index, y=df.iloc[:,0])\n",
        "plt.ylabel('Content')"
      ],
      "metadata": {
        "colab": {
          "base_uri": "https://localhost:8080/",
          "height": 311
        },
        "id": "qcMyUnQMcgJh",
        "outputId": "f72769dd-c4aa-4686-fbd5-71cc486faf24"
      },
      "execution_count": 121,
      "outputs": [
        {
          "output_type": "execute_result",
          "data": {
            "text/plain": [
              "Text(0, 0.5, 'Content')"
            ]
          },
          "metadata": {},
          "execution_count": 121
        },
        {
          "output_type": "display_data",
          "data": {
            "text/plain": [
              "<Figure size 432x288 with 1 Axes>"
            ],
            "image/png": "[encoded data removed]"
          },
          "metadata": {
            "needs_background": "light"
          }
        }
      ]
    },
    {
      "cell_type": "code",
      "source": [
        "df1 = pd.DataFrame(data = data[data.Type==2].mean(), index=data.columns)\n",
        "df1 = df1.drop('Type', axis=0)\n",
        "plt.title(\"Average of each feature in Glass Type 2\", y=1.05, fontsize=15)\n",
        "sns.barplot(x=df1.index, y=df1.iloc[:,0])\n",
        "plt.ylabel('Content')"
      ],
      "metadata": {
        "colab": {
          "base_uri": "https://localhost:8080/",
          "height": 311
        },
        "id": "le1KYdQVf_Vn",
        "outputId": "fb9935eb-6da3-477d-86c8-2bb51b76d7f1"
      },
      "execution_count": 122,
      "outputs": [
        {
          "output_type": "execute_result",
          "data": {
            "text/plain": [
              "Text(0, 0.5, 'Content')"
            ]
          },
          "metadata": {},
          "execution_count": 122
        },
        {
          "output_type": "display_data",
          "data": {
            "text/plain": [
              "<Figure size 432x288 with 1 Axes>"
            ],
            "image/png": "[encoded data removed]"
          },
          "metadata": {
            "needs_background": "light"
          }
        }
      ]
    },
    {
      "cell_type": "code",
      "source": [
        "df2 = pd.DataFrame(data = data[data.Type==3].mean(), index=data.columns)\n",
        "df2 = df2.drop('Type', axis=0)\n",
        "plt.title(\"Average of each feature in Glass Type 3\", y=1.05, fontsize=15)\n",
        "sns.barplot(x=df2.index, y=df2.iloc[:,0])\n",
        "plt.ylabel('Content')"
      ],
      "metadata": {
        "colab": {
          "base_uri": "https://localhost:8080/",
          "height": 311
        },
        "id": "YaxXk4cRhIYO",
        "outputId": "64012e66-30f6-4c00-ff49-a3d285135b32"
      },
      "execution_count": 123,
      "outputs": [
        {
          "output_type": "execute_result",
          "data": {
            "text/plain": [
              "Text(0, 0.5, 'Content')"
            ]
          },
          "metadata": {},
          "execution_count": 123
        },
        {
          "output_type": "display_data",
          "data": {
            "text/plain": [
              "<Figure size 432x288 with 1 Axes>"
            ],
            "image/png": "[encoded data removed]"
          },
          "metadata": {
            "needs_background": "light"
          }
        }
      ]
    },
    {
      "cell_type": "code",
      "source": [
        "df3 = pd.DataFrame(data = data[data.Type==5].mean(), index=data.columns)\n",
        "df3 = df3.drop('Type', axis=0)\n",
        "plt.title(\"Average of each feature in Glass Type 5\", y=1.05, fontsize=15)\n",
        "sns.barplot(x=df3.index, y=df3.iloc[:,0])\n",
        "plt.ylabel('Content')"
      ],
      "metadata": {
        "colab": {
          "base_uri": "https://localhost:8080/",
          "height": 311
        },
        "id": "XHXEin-1hOUG",
        "outputId": "c3f5ccda-f4f0-47f2-bee5-53206ff9ad4a"
      },
      "execution_count": 124,
      "outputs": [
        {
          "output_type": "execute_result",
          "data": {
            "text/plain": [
              "Text(0, 0.5, 'Content')"
            ]
          },
          "metadata": {},
          "execution_count": 124
        },
        {
          "output_type": "display_data",
          "data": {
            "text/plain": [
              "<Figure size 432x288 with 1 Axes>"
            ],
            "image/png": "[encoded data removed]"
          },
          "metadata": {
            "needs_background": "light"
          }
        }
      ]
    },
    {
      "cell_type": "code",
      "source": [
        "df4 = pd.DataFrame(data = data[data.Type==6].mean(), index=data.columns)\n",
        "df4 = df4.drop('Type', axis=0)\n",
        "plt.title(\"Average of each feature in Glass Type 6\", y=1.05, fontsize=15)\n",
        "sns.barplot(x=df4.index, y=df4.iloc[:,0])\n",
        "plt.ylabel('Content')"
      ],
      "metadata": {
        "colab": {
          "base_uri": "https://localhost:8080/",
          "height": 311
        },
        "id": "s-abND2NhUc-",
        "outputId": "9e44fbbd-8251-49f6-9338-84cdcd752118"
      },
      "execution_count": 125,
      "outputs": [
        {
          "output_type": "execute_result",
          "data": {
            "text/plain": [
              "Text(0, 0.5, 'Content')"
            ]
          },
          "metadata": {},
          "execution_count": 125
        },
        {
          "output_type": "display_data",
          "data": {
            "text/plain": [
              "<Figure size 432x288 with 1 Axes>"
            ],
            "image/png": "[encoded data removed]"
          },
          "metadata": {
            "needs_background": "light"
          }
        }
      ]
    },
    {
      "cell_type": "code",
      "source": [
        "df5 = pd.DataFrame(data = data[data.Type==7].mean(), index=data.columns)\n",
        "df5 = df5.drop('Type', axis=0)\n",
        "plt.title(\"Average of each feature in Glass Type 7\", y=1.05, fontsize=15)\n",
        "sns.barplot(x=df5.index, y=df5.iloc[:,0])\n",
        "plt.ylabel('Content')"
      ],
      "metadata": {
        "colab": {
          "base_uri": "https://localhost:8080/",
          "height": 311
        },
        "id": "wn_w5keXhYpM",
        "outputId": "ade7ed3f-d6a3-4798-8c2f-d4d427675e69"
      },
      "execution_count": 126,
      "outputs": [
        {
          "output_type": "execute_result",
          "data": {
            "text/plain": [
              "Text(0, 0.5, 'Content')"
            ]
          },
          "metadata": {},
          "execution_count": 126
        },
        {
          "output_type": "display_data",
          "data": {
            "text/plain": [
              "<Figure size 432x288 with 1 Axes>"
            ],
            "image/png": "[encoded data removed]"
          },
          "metadata": {
            "needs_background": "light"
          }
        }
      ]
    },
    {
      "cell_type": "markdown",
      "source": [
        "**Dependency of Target variable on diff Features**"
      ],
      "metadata": {
        "id": "1Vi1n1rMnVwo"
      }
    },
    {
      "cell_type": "code",
      "source": [
        "corr = pd.DataFrame(data = data.corr().iloc[:,-1], index=data.columns)\n",
        "corr"
      ],
      "metadata": {
        "colab": {
          "base_uri": "https://localhost:8080/",
          "height": 363
        },
        "id": "oIEGAL1Dnbuv",
        "outputId": "c7ff3cd2-be7c-4471-eab5-06f246327771"
      },
      "execution_count": 143,
      "outputs": [
        {
          "output_type": "execute_result",
          "data": {
            "text/plain": [
              "          Type\n",
              "RI   -0.160140\n",
              "Na    0.508837\n",
              "Mg   -0.744195\n",
              "Al    0.597432\n",
              "Si    0.147725\n",
              "K    -0.012455\n",
              "Ca    0.002677\n",
              "Ba    0.574896\n",
              "Fe   -0.191090\n",
              "Type  1.000000"
            ],
            "text/html": [
              "\n",
              "  <div id=\"df-03f629b7-41a5-4445-a015-953e975bef9e\">\n",
              "    <div class=\"colab-df-container\">\n",
              "      <div>\n",
              "<style scoped>\n",
              "    .dataframe tbody tr th:only-of-type {\n",
              "        vertical-align: middle;\n",
              "    }\n",
              "\n",
              "    .dataframe tbody tr th {\n",
              "        vertical-align: top;\n",
              "    }\n",
              "\n",
              "    .dataframe thead th {\n",
              "        text-align: right;\n",
              "    }\n",
              "</style>\n",
              "<table border=\"1\" class=\"dataframe\">\n",
              "  <thead>\n",
              "    <tr style=\"text-align: right;\">\n",
              "      <th></th>\n",
              "      <th>Type</th>\n",
              "    </tr>\n",
              "  </thead>\n",
              "  <tbody>\n",
              "    <tr>\n",
              "      <th>RI</th>\n",
              "      <td>-0.160140</td>\n",
              "    </tr>\n",
              "    <tr>\n",
              "      <th>Na</th>\n",
              "      <td>0.508837</td>\n",
              "    </tr>\n",
              "    <tr>\n",
              "      <th>Mg</th>\n",
              "      <td>-0.744195</td>\n",
              "    </tr>\n",
              "    <tr>\n",
              "      <th>Al</th>\n",
              "      <td>0.597432</td>\n",
              "    </tr>\n",
              "    <tr>\n",
              "      <th>Si</th>\n",
              "      <td>0.147725</td>\n",
              "    </tr>\n",
              "    <tr>\n",
              "      <th>K</th>\n",
              "      <td>-0.012455</td>\n",
              "    </tr>\n",
              "    <tr>\n",
              "      <th>Ca</th>\n",
              "      <td>0.002677</td>\n",
              "    </tr>\n",
              "    <tr>\n",
              "      <th>Ba</th>\n",
              "      <td>0.574896</td>\n",
              "    </tr>\n",
              "    <tr>\n",
              "      <th>Fe</th>\n",
              "      <td>-0.191090</td>\n",
              "    </tr>\n",
              "    <tr>\n",
              "      <th>Type</th>\n",
              "      <td>1.000000</td>\n",
              "    </tr>\n",
              "  </tbody>\n",
              "</table>\n",
              "</div>\n",
              "      <button class=\"colab-df-convert\" onclick=\"convertToInteractive('df-03f629b7-41a5-4445-a015-953e975bef9e')\"\n",
              "              title=\"Convert this dataframe to an interactive table.\"\n",
              "              style=\"display:none;\">\n",
              "        \n",
              "  <svg xmlns=\"http://www.w3.org/2000/svg\" height=\"24px\"viewBox=\"0 0 24 24\"\n",
              "       width=\"24px\">\n",
              "    <path d=\"M0 0h24v24H0V0z\" fill=\"none\"/>\n",
              "    <path d=\"M18.56 5.44l.94 2.06.94-2.06 2.06-.94-2.06-.94-.94-2.06-.94 2.06-2.06.94zm-11 1L8.5 8.5l.94-2.06 2.06-.94-2.06-.94L8.5 2.5l-.94 2.06-2.06.94zm10 10l.94 2.06.94-2.06 2.06-.94-2.06-.94-.94-2.06-.94 2.06-2.06.94z\"/><path d=\"M17.41 7.96l-1.37-1.37c-.4-.4-.92-.59-1.43-.59-.52 0-1.04.2-1.43.59L10.3 9.45l-7.72 7.72c-.78.78-.78 2.05 0 2.83L4 21.41c.39.39.9.59 1.41.59.51 0 1.02-.2 1.41-.59l7.78-7.78 2.81-2.81c.8-.78.8-2.07 0-2.86zM5.41 20L4 18.59l7.72-7.72 1.47 1.35L5.41 20z\"/>\n",
              "  </svg>\n",
              "      </button>\n",
              "      \n",
              "  <style>\n",
              "    .colab-df-container {\n",
              "      display:flex;\n",
              "      flex-wrap:wrap;\n",
              "      gap: 12px;\n",
              "    }\n",
              "\n",
              "    .colab-df-convert {\n",
              "      background-color: #E8F0FE;\n",
              "      border: none;\n",
              "      border-radius: 50%;\n",
              "      cursor: pointer;\n",
              "      display: none;\n",
              "      fill: #1967D2;\n",
              "      height: 32px;\n",
              "      padding: 0 0 0 0;\n",
              "      width: 32px;\n",
              "    }\n",
              "\n",
              "    .colab-df-convert:hover {\n",
              "      background-color: #E2EBFA;\n",
              "      box-shadow: 0px 1px 2px rgba(60, 64, 67, 0.3), 0px 1px 3px 1px rgba(60, 64, 67, 0.15);\n",
              "      fill: #174EA6;\n",
              "    }\n",
              "\n",
              "    [theme=dark] .colab-df-convert {\n",
              "      background-color: #3B4455;\n",
              "      fill: #D2E3FC;\n",
              "    }\n",
              "\n",
              "    [theme=dark] .colab-df-convert:hover {\n",
              "      background-color: #434B5C;\n",
              "      box-shadow: 0px 1px 3px 1px rgba(0, 0, 0, 0.15);\n",
              "      filter: drop-shadow(0px 1px 2px rgba(0, 0, 0, 0.3));\n",
              "      fill: #FFFFFF;\n",
              "    }\n",
              "  </style>\n",
              "\n",
              "      <script>\n",
              "        const buttonEl =\n",
              "          document.querySelector('#df-03f629b7-41a5-4445-a015-953e975bef9e button.colab-df-convert');\n",
              "        buttonEl.style.display =\n",
              "          google.colab.kernel.accessAllowed ? 'block' : 'none';\n",
              "\n",
              "        async function convertToInteractive(key) {\n",
              "          const element = document.querySelector('#df-03f629b7-41a5-4445-a015-953e975bef9e');\n",
              "          const dataTable =\n",
              "            await google.colab.kernel.invokeFunction('convertToInteractive',\n",
              "                                                     [key], {});\n",
              "          if (!dataTable) return;\n",
              "\n",
              "          const docLinkHtml = 'Like what you see? Visit the ' +\n",
              "            '<a target=\"_blank\" href=https://colab.research.google.com/notebooks/data_table.ipynb>data table notebook</a>'\n",
              "            + ' to learn more about interactive tables.';\n",
              "          element.innerHTML = '';\n",
              "          dataTable['output_type'] = 'display_data';\n",
              "          await google.colab.output.renderOutput(dataTable, element);\n",
              "          const docLink = document.createElement('div');\n",
              "          docLink.innerHTML = docLinkHtml;\n",
              "          element.appendChild(docLink);\n",
              "        }\n",
              "      </script>\n",
              "    </div>\n",
              "  </div>\n",
              "  "
            ]
          },
          "metadata": {},
          "execution_count": 143
        }
      ]
    },
    {
      "cell_type": "code",
      "source": [
        "fig , ax=plt.subplots(figsize=(10,8))\n",
        "sns.barplot(x = corr.index, y = corr.iloc[:,0])\n",
        "plt.title('Correlation plot of Target variable(Type) with other features', fontsize=17, y =1.05)"
      ],
      "metadata": {
        "colab": {
          "base_uri": "https://localhost:8080/",
          "height": 542
        },
        "id": "cylFmrJsncg_",
        "outputId": "ab71ffe8-9556-4748-e6ad-8710b795f838"
      },
      "execution_count": 149,
      "outputs": [
        {
          "output_type": "execute_result",
          "data": {
            "text/plain": [
              "Text(0.5, 1.05, 'Correlation plot of Target variable(Type) with other features')"
            ]
          },
          "metadata": {},
          "execution_count": 149
        },
        {
          "output_type": "display_data",
          "data": {
            "text/plain": [
              "<Figure size 720x576 with 1 Axes>"
            ],
            "image/png": "[encoded data removed]"
          },
          "metadata": {
            "needs_background": "light"
          }
        }
      ]
    },
    {
      "cell_type": "code",
      "source": [
        "!pip install ppscore"
      ],
      "metadata": {
        "id": "Xmt2wZgcncBW"
      },
      "execution_count": null,
      "outputs": []
    },
    {
      "cell_type": "code",
      "source": [
        "import ppscore as pps\n",
        "score = pps.matrix(data)\n",
        "score[score['y']=='Type']"
      ],
      "metadata": {
        "colab": {
          "base_uri": "https://localhost:8080/",
          "height": 363
        },
        "id": "2iOUnb3xqKHh",
        "outputId": "35cd379a-36b0-4a96-e0ec-00f14c550904"
      },
      "execution_count": 2,
      "outputs": [
        {
          "output_type": "execute_result",
          "data": {
            "text/plain": [
              "       x     y   ppscore            case  is_valid_score               metric  \\\n",
              "9     RI  Type  0.000000      regression            True  mean absolute error   \n",
              "19    Na  Type  0.054775      regression            True  mean absolute error   \n",
              "29    Mg  Type  0.224171      regression            True  mean absolute error   \n",
              "39    Al  Type  0.127704      regression            True  mean absolute error   \n",
              "49    Si  Type  0.000000      regression            True  mean absolute error   \n",
              "59     K  Type  0.264086      regression            True  mean absolute error   \n",
              "69    Ca  Type  0.000000      regression            True  mean absolute error   \n",
              "79    Ba  Type  0.309571      regression            True  mean absolute error   \n",
              "89    Fe  Type  0.000000      regression            True  mean absolute error   \n",
              "99  Type  Type  1.000000  predict_itself            True                 None   \n",
              "\n",
              "    baseline_score  model_score                    model  \n",
              "9         1.434579     1.619308  DecisionTreeRegressor()  \n",
              "19        1.434579     1.356001  DecisionTreeRegressor()  \n",
              "29        1.434579     1.112989  DecisionTreeRegressor()  \n",
              "39        1.434579     1.251378  DecisionTreeRegressor()  \n",
              "49        1.434579     1.908572  DecisionTreeRegressor()  \n",
              "59        1.434579     1.055727  DecisionTreeRegressor()  \n",
              "69        1.434579     1.770609  DecisionTreeRegressor()  \n",
              "79        1.434579     0.990475  DecisionTreeRegressor()  \n",
              "89        1.434579     1.780845  DecisionTreeRegressor()  \n",
              "99        0.000000     1.000000                     None  "
            ],
            "text/html": [
              "\n",
              "  <div id=\"df-348f4f40-6e27-45b6-a7e8-ba39ec290441\">\n",
              "    <div class=\"colab-df-container\">\n",
              "      <div>\n",
              "<style scoped>\n",
              "    .dataframe tbody tr th:only-of-type {\n",
              "        vertical-align: middle;\n",
              "    }\n",
              "\n",
              "    .dataframe tbody tr th {\n",
              "        vertical-align: top;\n",
              "    }\n",
              "\n",
              "    .dataframe thead th {\n",
              "        text-align: right;\n",
              "    }\n",
              "</style>\n",
              "<table border=\"1\" class=\"dataframe\">\n",
              "  <thead>\n",
              "    <tr style=\"text-align: right;\">\n",
              "      <th></th>\n",
              "      <th>x</th>\n",
              "      <th>y</th>\n",
              "      <th>ppscore</th>\n",
              "      <th>case</th>\n",
              "      <th>is_valid_score</th>\n",
              "      <th>metric</th>\n",
              "      <th>baseline_score</th>\n",
              "      <th>model_score</th>\n",
              "      <th>model</th>\n",
              "    </tr>\n",
              "  </thead>\n",
              "  <tbody>\n",
              "    <tr>\n",
              "      <th>9</th>\n",
              "      <td>RI</td>\n",
              "      <td>Type</td>\n",
              "      <td>0.000000</td>\n",
              "      <td>regression</td>\n",
              "      <td>True</td>\n",
              "      <td>mean absolute error</td>\n",
              "      <td>1.434579</td>\n",
              "      <td>1.619308</td>\n",
              "      <td>DecisionTreeRegressor()</td>\n",
              "    </tr>\n",
              "    <tr>\n",
              "      <th>19</th>\n",
              "      <td>Na</td>\n",
              "      <td>Type</td>\n",
              "      <td>0.054775</td>\n",
              "      <td>regression</td>\n",
              "      <td>True</td>\n",
              "      <td>mean absolute error</td>\n",
              "      <td>1.434579</td>\n",
              "      <td>1.356001</td>\n",
              "      <td>DecisionTreeRegressor()</td>\n",
              "    </tr>\n",
              "    <tr>\n",
              "      <th>29</th>\n",
              "      <td>Mg</td>\n",
              "      <td>Type</td>\n",
              "      <td>0.224171</td>\n",
              "      <td>regression</td>\n",
              "      <td>True</td>\n",
              "      <td>mean absolute error</td>\n",
              "      <td>1.434579</td>\n",
              "      <td>1.112989</td>\n",
              "      <td>DecisionTreeRegressor()</td>\n",
              "    </tr>\n",
              "    <tr>\n",
              "      <th>39</th>\n",
              "      <td>Al</td>\n",
              "      <td>Type</td>\n",
              "      <td>0.127704</td>\n",
              "      <td>regression</td>\n",
              "      <td>True</td>\n",
              "      <td>mean absolute error</td>\n",
              "      <td>1.434579</td>\n",
              "      <td>1.251378</td>\n",
              "      <td>DecisionTreeRegressor()</td>\n",
              "    </tr>\n",
              "    <tr>\n",
              "      <th>49</th>\n",
              "      <td>Si</td>\n",
              "      <td>Type</td>\n",
              "      <td>0.000000</td>\n",
              "      <td>regression</td>\n",
              "      <td>True</td>\n",
              "      <td>mean absolute error</td>\n",
              "      <td>1.434579</td>\n",
              "      <td>1.908572</td>\n",
              "      <td>DecisionTreeRegressor()</td>\n",
              "    </tr>\n",
              "    <tr>\n",
              "      <th>59</th>\n",
              "      <td>K</td>\n",
              "      <td>Type</td>\n",
              "      <td>0.264086</td>\n",
              "      <td>regression</td>\n",
              "      <td>True</td>\n",
              "      <td>mean absolute error</td>\n",
              "      <td>1.434579</td>\n",
              "      <td>1.055727</td>\n",
              "      <td>DecisionTreeRegressor()</td>\n",
              "    </tr>\n",
              "    <tr>\n",
              "      <th>69</th>\n",
              "      <td>Ca</td>\n",
              "      <td>Type</td>\n",
              "      <td>0.000000</td>\n",
              "      <td>regression</td>\n",
              "      <td>True</td>\n",
              "      <td>mean absolute error</td>\n",
              "      <td>1.434579</td>\n",
              "      <td>1.770609</td>\n",
              "      <td>DecisionTreeRegressor()</td>\n",
              "    </tr>\n",
              "    <tr>\n",
              "      <th>79</th>\n",
              "      <td>Ba</td>\n",
              "      <td>Type</td>\n",
              "      <td>0.309571</td>\n",
              "      <td>regression</td>\n",
              "      <td>True</td>\n",
              "      <td>mean absolute error</td>\n",
              "      <td>1.434579</td>\n",
              "      <td>0.990475</td>\n",
              "      <td>DecisionTreeRegressor()</td>\n",
              "    </tr>\n",
              "    <tr>\n",
              "      <th>89</th>\n",
              "      <td>Fe</td>\n",
              "      <td>Type</td>\n",
              "      <td>0.000000</td>\n",
              "      <td>regression</td>\n",
              "      <td>True</td>\n",
              "      <td>mean absolute error</td>\n",
              "      <td>1.434579</td>\n",
              "      <td>1.780845</td>\n",
              "      <td>DecisionTreeRegressor()</td>\n",
              "    </tr>\n",
              "    <tr>\n",
              "      <th>99</th>\n",
              "      <td>Type</td>\n",
              "      <td>Type</td>\n",
              "      <td>1.000000</td>\n",
              "      <td>predict_itself</td>\n",
              "      <td>True</td>\n",
              "      <td>None</td>\n",
              "      <td>0.000000</td>\n",
              "      <td>1.000000</td>\n",
              "      <td>None</td>\n",
              "    </tr>\n",
              "  </tbody>\n",
              "</table>\n",
              "</div>\n",
              "      <button class=\"colab-df-convert\" onclick=\"convertToInteractive('df-348f4f40-6e27-45b6-a7e8-ba39ec290441')\"\n",
              "              title=\"Convert this dataframe to an interactive table.\"\n",
              "              style=\"display:none;\">\n",
              "        \n",
              "  <svg xmlns=\"http://www.w3.org/2000/svg\" height=\"24px\"viewBox=\"0 0 24 24\"\n",
              "       width=\"24px\">\n",
              "    <path d=\"M0 0h24v24H0V0z\" fill=\"none\"/>\n",
              "    <path d=\"M18.56 5.44l.94 2.06.94-2.06 2.06-.94-2.06-.94-.94-2.06-.94 2.06-2.06.94zm-11 1L8.5 8.5l.94-2.06 2.06-.94-2.06-.94L8.5 2.5l-.94 2.06-2.06.94zm10 10l.94 2.06.94-2.06 2.06-.94-2.06-.94-.94-2.06-.94 2.06-2.06.94z\"/><path d=\"M17.41 7.96l-1.37-1.37c-.4-.4-.92-.59-1.43-.59-.52 0-1.04.2-1.43.59L10.3 9.45l-7.72 7.72c-.78.78-.78 2.05 0 2.83L4 21.41c.39.39.9.59 1.41.59.51 0 1.02-.2 1.41-.59l7.78-7.78 2.81-2.81c.8-.78.8-2.07 0-2.86zM5.41 20L4 18.59l7.72-7.72 1.47 1.35L5.41 20z\"/>\n",
              "  </svg>\n",
              "      </button>\n",
              "      \n",
              "  <style>\n",
              "    .colab-df-container {\n",
              "      display:flex;\n",
              "      flex-wrap:wrap;\n",
              "      gap: 12px;\n",
              "    }\n",
              "\n",
              "    .colab-df-convert {\n",
              "      background-color: #E8F0FE;\n",
              "      border: none;\n",
              "      border-radius: 50%;\n",
              "      cursor: pointer;\n",
              "      display: none;\n",
              "      fill: #1967D2;\n",
              "      height: 32px;\n",
              "      padding: 0 0 0 0;\n",
              "      width: 32px;\n",
              "    }\n",
              "\n",
              "    .colab-df-convert:hover {\n",
              "      background-color: #E2EBFA;\n",
              "      box-shadow: 0px 1px 2px rgba(60, 64, 67, 0.3), 0px 1px 3px 1px rgba(60, 64, 67, 0.15);\n",
              "      fill: #174EA6;\n",
              "    }\n",
              "\n",
              "    [theme=dark] .colab-df-convert {\n",
              "      background-color: #3B4455;\n",
              "      fill: #D2E3FC;\n",
              "    }\n",
              "\n",
              "    [theme=dark] .colab-df-convert:hover {\n",
              "      background-color: #434B5C;\n",
              "      box-shadow: 0px 1px 3px 1px rgba(0, 0, 0, 0.15);\n",
              "      filter: drop-shadow(0px 1px 2px rgba(0, 0, 0, 0.3));\n",
              "      fill: #FFFFFF;\n",
              "    }\n",
              "  </style>\n",
              "\n",
              "      <script>\n",
              "        const buttonEl =\n",
              "          document.querySelector('#df-348f4f40-6e27-45b6-a7e8-ba39ec290441 button.colab-df-convert');\n",
              "        buttonEl.style.display =\n",
              "          google.colab.kernel.accessAllowed ? 'block' : 'none';\n",
              "\n",
              "        async function convertToInteractive(key) {\n",
              "          const element = document.querySelector('#df-348f4f40-6e27-45b6-a7e8-ba39ec290441');\n",
              "          const dataTable =\n",
              "            await google.colab.kernel.invokeFunction('convertToInteractive',\n",
              "                                                     [key], {});\n",
              "          if (!dataTable) return;\n",
              "\n",
              "          const docLinkHtml = 'Like what you see? Visit the ' +\n",
              "            '<a target=\"_blank\" href=https://colab.research.google.com/notebooks/data_table.ipynb>data table notebook</a>'\n",
              "            + ' to learn more about interactive tables.';\n",
              "          element.innerHTML = '';\n",
              "          dataTable['output_type'] = 'display_data';\n",
              "          await google.colab.output.renderOutput(dataTable, element);\n",
              "          const docLink = document.createElement('div');\n",
              "          docLink.innerHTML = docLinkHtml;\n",
              "          element.appendChild(docLink);\n",
              "        }\n",
              "      </script>\n",
              "    </div>\n",
              "  </div>\n",
              "  "
            ]
          },
          "metadata": {},
          "execution_count": 2
        }
      ]
    },
    {
      "cell_type": "code",
      "source": [
        "fig, ax=plt.subplots(figsize=(15,5))\n",
        "sns.barplot(x = score.x, y = score.ppscore)\n",
        "plt.title('PPScore of each feature with Target Variable(Type)', fontsize=17, y=1.05)"
      ],
      "metadata": {
        "colab": {
          "base_uri": "https://localhost:8080/",
          "height": 384
        },
        "id": "3g_klgumqJyS",
        "outputId": "4ddbad77-8267-4f9e-c54e-2126de71c946"
      },
      "execution_count": 7,
      "outputs": [
        {
          "output_type": "execute_result",
          "data": {
            "text/plain": [
              "Text(0.5, 1.05, 'PPScore of each feature with Target Variable(Type)')"
            ]
          },
          "metadata": {},
          "execution_count": 7
        },
        {
          "output_type": "display_data",
          "data": {
            "text/plain": [
              "<Figure size 1080x360 with 1 Axes>"
            ],
            "image/png": "[encoded data removed]"
          },
          "metadata": {
            "needs_background": "light"
          }
        }
      ]
    },
    {
      "cell_type": "markdown",
      "source": [
        "**Data Preprocessing**"
      ],
      "metadata": {
        "id": "sYmpelb-l48f"
      }
    },
    {
      "cell_type": "code",
      "source": [
        "#drop the duplicate value in data\n",
        "data= data.drop_duplicates()\n",
        "data.shape"
      ],
      "metadata": {
        "colab": {
          "base_uri": "https://localhost:8080/"
        },
        "id": "0eOQaed6ifw-",
        "outputId": "7c2ab49e-b2e6-4078-c81a-964c581df82b"
      },
      "execution_count": 8,
      "outputs": [
        {
          "output_type": "execute_result",
          "data": {
            "text/plain": [
              "(213, 10)"
            ]
          },
          "metadata": {},
          "execution_count": 8
        }
      ]
    },
    {
      "cell_type": "markdown",
      "source": [
        "Get and remove outliers we get in our data by **Isolation Forest.**"
      ],
      "metadata": {
        "id": "MjEN78puxzrm"
      }
    },
    {
      "cell_type": "code",
      "source": [
        "#check for outliers\n",
        "from sklearn.ensemble import IsolationForest\n",
        "data1=data.copy()\n",
        "\n",
        "#training the model\n",
        "clf = IsolationForest(random_state=10, contamination=.01)\n",
        "clf.fit(data1)\n",
        "data1['anamoly'] = clf.predict(data1.iloc[:,0:10])\n",
        "data1[data1['anamoly']==-1]"
      ],
      "metadata": {
        "colab": {
          "base_uri": "https://localhost:8080/",
          "height": 143
        },
        "id": "zgDP8UI6mGTz",
        "outputId": "a67a4006-a1aa-4a20-edfc-c06a723bfdfd"
      },
      "execution_count": 10,
      "outputs": [
        {
          "output_type": "execute_result",
          "data": {
            "text/plain": [
              "          RI     Na    Mg   Al     Si     K     Ca    Ba    Fe  Type  anamoly\n",
              "106  1.53125  10.73  0.00  2.1  69.81  0.58  13.30  3.15  0.28     2       -1\n",
              "107  1.53393  12.30  0.00  1.0  70.16  0.12  16.19  0.00  0.24     2       -1\n",
              "163  1.51514  14.01  2.68  3.5  69.89  1.68   5.87  2.20  0.00     5       -1"
            ],
            "text/html": [
              "\n",
              "  <div id=\"df-ccfe94ea-04bc-4d00-a8e7-3966a618df86\">\n",
              "    <div class=\"colab-df-container\">\n",
              "      <div>\n",
              "<style scoped>\n",
              "    .dataframe tbody tr th:only-of-type {\n",
              "        vertical-align: middle;\n",
              "    }\n",
              "\n",
              "    .dataframe tbody tr th {\n",
              "        vertical-align: top;\n",
              "    }\n",
              "\n",
              "    .dataframe thead th {\n",
              "        text-align: right;\n",
              "    }\n",
              "</style>\n",
              "<table border=\"1\" class=\"dataframe\">\n",
              "  <thead>\n",
              "    <tr style=\"text-align: right;\">\n",
              "      <th></th>\n",
              "      <th>RI</th>\n",
              "      <th>Na</th>\n",
              "      <th>Mg</th>\n",
              "      <th>Al</th>\n",
              "      <th>Si</th>\n",
              "      <th>K</th>\n",
              "      <th>Ca</th>\n",
              "      <th>Ba</th>\n",
              "      <th>Fe</th>\n",
              "      <th>Type</th>\n",
              "      <th>anamoly</th>\n",
              "    </tr>\n",
              "  </thead>\n",
              "  <tbody>\n",
              "    <tr>\n",
              "      <th>106</th>\n",
              "      <td>1.53125</td>\n",
              "      <td>10.73</td>\n",
              "      <td>0.00</td>\n",
              "      <td>2.1</td>\n",
              "      <td>69.81</td>\n",
              "      <td>0.58</td>\n",
              "      <td>13.30</td>\n",
              "      <td>3.15</td>\n",
              "      <td>0.28</td>\n",
              "      <td>2</td>\n",
              "      <td>-1</td>\n",
              "    </tr>\n",
              "    <tr>\n",
              "      <th>107</th>\n",
              "      <td>1.53393</td>\n",
              "      <td>12.30</td>\n",
              "      <td>0.00</td>\n",
              "      <td>1.0</td>\n",
              "      <td>70.16</td>\n",
              "      <td>0.12</td>\n",
              "      <td>16.19</td>\n",
              "      <td>0.00</td>\n",
              "      <td>0.24</td>\n",
              "      <td>2</td>\n",
              "      <td>-1</td>\n",
              "    </tr>\n",
              "    <tr>\n",
              "      <th>163</th>\n",
              "      <td>1.51514</td>\n",
              "      <td>14.01</td>\n",
              "      <td>2.68</td>\n",
              "      <td>3.5</td>\n",
              "      <td>69.89</td>\n",
              "      <td>1.68</td>\n",
              "      <td>5.87</td>\n",
              "      <td>2.20</td>\n",
              "      <td>0.00</td>\n",
              "      <td>5</td>\n",
              "      <td>-1</td>\n",
              "    </tr>\n",
              "  </tbody>\n",
              "</table>\n",
              "</div>\n",
              "      <button class=\"colab-df-convert\" onclick=\"convertToInteractive('df-ccfe94ea-04bc-4d00-a8e7-3966a618df86')\"\n",
              "              title=\"Convert this dataframe to an interactive table.\"\n",
              "              style=\"display:none;\">\n",
              "        \n",
              "  <svg xmlns=\"http://www.w3.org/2000/svg\" height=\"24px\"viewBox=\"0 0 24 24\"\n",
              "       width=\"24px\">\n",
              "    <path d=\"M0 0h24v24H0V0z\" fill=\"none\"/>\n",
              "    <path d=\"M18.56 5.44l.94 2.06.94-2.06 2.06-.94-2.06-.94-.94-2.06-.94 2.06-2.06.94zm-11 1L8.5 8.5l.94-2.06 2.06-.94-2.06-.94L8.5 2.5l-.94 2.06-2.06.94zm10 10l.94 2.06.94-2.06 2.06-.94-2.06-.94-.94-2.06-.94 2.06-2.06.94z\"/><path d=\"M17.41 7.96l-1.37-1.37c-.4-.4-.92-.59-1.43-.59-.52 0-1.04.2-1.43.59L10.3 9.45l-7.72 7.72c-.78.78-.78 2.05 0 2.83L4 21.41c.39.39.9.59 1.41.59.51 0 1.02-.2 1.41-.59l7.78-7.78 2.81-2.81c.8-.78.8-2.07 0-2.86zM5.41 20L4 18.59l7.72-7.72 1.47 1.35L5.41 20z\"/>\n",
              "  </svg>\n",
              "      </button>\n",
              "      \n",
              "  <style>\n",
              "    .colab-df-container {\n",
              "      display:flex;\n",
              "      flex-wrap:wrap;\n",
              "      gap: 12px;\n",
              "    }\n",
              "\n",
              "    .colab-df-convert {\n",
              "      background-color: #E8F0FE;\n",
              "      border: none;\n",
              "      border-radius: 50%;\n",
              "      cursor: pointer;\n",
              "      display: none;\n",
              "      fill: #1967D2;\n",
              "      height: 32px;\n",
              "      padding: 0 0 0 0;\n",
              "      width: 32px;\n",
              "    }\n",
              "\n",
              "    .colab-df-convert:hover {\n",
              "      background-color: #E2EBFA;\n",
              "      box-shadow: 0px 1px 2px rgba(60, 64, 67, 0.3), 0px 1px 3px 1px rgba(60, 64, 67, 0.15);\n",
              "      fill: #174EA6;\n",
              "    }\n",
              "\n",
              "    [theme=dark] .colab-df-convert {\n",
              "      background-color: #3B4455;\n",
              "      fill: #D2E3FC;\n",
              "    }\n",
              "\n",
              "    [theme=dark] .colab-df-convert:hover {\n",
              "      background-color: #434B5C;\n",
              "      box-shadow: 0px 1px 3px 1px rgba(0, 0, 0, 0.15);\n",
              "      filter: drop-shadow(0px 1px 2px rgba(0, 0, 0, 0.3));\n",
              "      fill: #FFFFFF;\n",
              "    }\n",
              "  </style>\n",
              "\n",
              "      <script>\n",
              "        const buttonEl =\n",
              "          document.querySelector('#df-ccfe94ea-04bc-4d00-a8e7-3966a618df86 button.colab-df-convert');\n",
              "        buttonEl.style.display =\n",
              "          google.colab.kernel.accessAllowed ? 'block' : 'none';\n",
              "\n",
              "        async function convertToInteractive(key) {\n",
              "          const element = document.querySelector('#df-ccfe94ea-04bc-4d00-a8e7-3966a618df86');\n",
              "          const dataTable =\n",
              "            await google.colab.kernel.invokeFunction('convertToInteractive',\n",
              "                                                     [key], {});\n",
              "          if (!dataTable) return;\n",
              "\n",
              "          const docLinkHtml = 'Like what you see? Visit the ' +\n",
              "            '<a target=\"_blank\" href=https://colab.research.google.com/notebooks/data_table.ipynb>data table notebook</a>'\n",
              "            + ' to learn more about interactive tables.';\n",
              "          element.innerHTML = '';\n",
              "          dataTable['output_type'] = 'display_data';\n",
              "          await google.colab.output.renderOutput(dataTable, element);\n",
              "          const docLink = document.createElement('div');\n",
              "          docLink.innerHTML = docLinkHtml;\n",
              "          element.appendChild(docLink);\n",
              "        }\n",
              "      </script>\n",
              "    </div>\n",
              "  </div>\n",
              "  "
            ]
          },
          "metadata": {},
          "execution_count": 10
        }
      ]
    },
    {
      "cell_type": "code",
      "source": [
        "#drop these outliers\n",
        "data = data.drop([106,107,163], axis=0)"
      ],
      "metadata": {
        "id": "nGhjkddbyF24"
      },
      "execution_count": 11,
      "outputs": []
    },
    {
      "cell_type": "code",
      "source": [
        "data.shape"
      ],
      "metadata": {
        "colab": {
          "base_uri": "https://localhost:8080/"
        },
        "id": "_jaNqw6HyVDj",
        "outputId": "1e5fee1b-e248-437c-a01b-a06e145faf63"
      },
      "execution_count": 12,
      "outputs": [
        {
          "output_type": "execute_result",
          "data": {
            "text/plain": [
              "(210, 10)"
            ]
          },
          "metadata": {},
          "execution_count": 12
        }
      ]
    },
    {
      "cell_type": "markdown",
      "source": [
        "Spliting the data into independent features and Target variable"
      ],
      "metadata": {
        "id": "NrqFb-Iny1-8"
      }
    },
    {
      "cell_type": "code",
      "source": [
        "x=data.drop('Type', axis=1)\n",
        "y=data['Type']"
      ],
      "metadata": {
        "id": "ke4ld8GXy8tK"
      },
      "execution_count": 13,
      "outputs": []
    },
    {
      "cell_type": "code",
      "source": [
        "#Normalize the data\n",
        "scaler = MinMaxScaler()\n",
        "#Standardize the data\n",
        "std = StandardScaler()\n",
        "\n",
        "\n",
        "x_norm = pd.DataFrame(scaler.fit_transform(x), columns=x.columns)        #data between -3 to +3\n",
        "x_std = pd.DataFrame(std.fit_transform(x), columns=x.columns)            #data between -1 to +1 "
      ],
      "metadata": {
        "id": "7LRs2L59yXa3"
      },
      "execution_count": 58,
      "outputs": []
    },
    {
      "cell_type": "markdown",
      "source": [
        "**Build the Model**"
      ],
      "metadata": {
        "id": "5i9NfWOY0R6q"
      }
    },
    {
      "cell_type": "code",
      "source": [
        "#K Nearest Neighbor Clssification on normalized data\n",
        "\n",
        "#to get best number of neghbors\n",
        "kfold = KFold(n_splits=100)\n",
        "n_neighbors = np.array(range(1,50))               #get accuracy scores for 1<=k<=50, and select the one with highest accuracy.\n",
        "param_grid = dict(n_neighbors=n_neighbors)\n",
        "\n",
        "model = KNeighborsClassifier()\n",
        "grid = GridSearchCV(estimator = model, param_grid = param_grid, cv=kfold)\n",
        "grid.fit(x,y)\n",
        "\n",
        "print(grid.best_score_)\n",
        "print(grid.best_params_)"
      ],
      "metadata": {
        "colab": {
          "base_uri": "https://localhost:8080/"
        },
        "id": "b34M9H-3z7OR",
        "outputId": "61a4cfd0-9cef-4e9f-b966-cf9d9bdb4ac3"
      },
      "execution_count": 67,
      "outputs": [
        {
          "output_type": "stream",
          "name": "stdout",
          "text": [
            "0.675\n",
            "{'n_neighbors': 3}\n"
          ]
        }
      ]
    },
    {
      "cell_type": "code",
      "source": [
        "#Visual Representation\n",
        "\n",
        "#get scores for k between 1 to 50.\n",
        "k_range=range(1,50)\n",
        "k_score = []\n",
        "\n",
        "for k in k_range:\n",
        "  knn = KNeighborsClassifier(n_neighbors=k)\n",
        "  scores = cross_val_score(knn, x, y, cv=kfold)\n",
        "  k_score.append(scores.mean())\n",
        "#plot score to k\n",
        "plt.plot(k_range, k_score)  \n",
        "plt.xlabel(\"values of k\")\n",
        "plt.ylabel(\"score\")\n",
        "plt.title(\"Plot of Accuracy of model vs Number of neighbors\")\n",
        "plt.show()"
      ],
      "metadata": {
        "colab": {
          "base_uri": "https://localhost:8080/",
          "height": 295
        },
        "id": "4LARarGd0xj0",
        "outputId": "ea79cafe-e4c4-4527-8648-9dc7aa465fb4"
      },
      "execution_count": 60,
      "outputs": [
        {
          "output_type": "display_data",
          "data": {
            "text/plain": [
              "<Figure size 432x288 with 1 Axes>"
            ],
            "image/png": "[encoded data removed]"
          },
          "metadata": {
            "needs_background": "light"
          }
        }
      ]
    },
    {
      "cell_type": "code",
      "source": [
        "pred=grid.predict(x)"
      ],
      "metadata": {
        "id": "wW9HmKYu2BdM"
      },
      "execution_count": 61,
      "outputs": []
    },
    {
      "cell_type": "code",
      "source": [
        "pred"
      ],
      "metadata": {
        "colab": {
          "base_uri": "https://localhost:8080/"
        },
        "id": "FLcH2h2xE-N-",
        "outputId": "a62cb821-8295-4722-bb0e-77807994b67b"
      },
      "execution_count": 68,
      "outputs": [
        {
          "output_type": "execute_result",
          "data": {
            "text/plain": [
              "array([1, 1, 2, 2, 1, 1, 1, 1, 1, 1, 1, 1, 1, 1, 1, 1, 1, 1, 1, 2, 1, 1,\n",
              "       1, 1, 1, 1, 1, 1, 1, 1, 1, 1, 1, 1, 1, 3, 1, 1, 1, 1, 1, 1, 1, 2,\n",
              "       1, 2, 1, 1, 1, 1, 1, 1, 1, 1, 2, 1, 1, 1, 1, 1, 1, 1, 1, 1, 1, 1,\n",
              "       1, 1, 1, 2, 2, 2, 2, 2, 2, 2, 2, 1, 2, 2, 2, 3, 2, 2, 2, 2, 2, 2,\n",
              "       2, 2, 2, 2, 2, 2, 3, 2, 1, 2, 1, 2, 2, 2, 2, 1, 2, 2, 2, 2, 2, 2,\n",
              "       2, 2, 2, 2, 2, 2, 2, 2, 1, 2, 2, 1, 2, 1, 2, 2, 2, 5, 2, 2, 2, 2,\n",
              "       2, 1, 2, 2, 2, 2, 2, 1, 2, 2, 2, 1, 3, 1, 1, 1, 1, 3, 3, 1, 1, 3,\n",
              "       1, 3, 2, 3, 2, 2, 2, 5, 5, 5, 5, 5, 5, 5, 5, 5, 5, 2, 6, 6, 6, 6,\n",
              "       2, 6, 6, 2, 6, 7, 7, 1, 2, 7, 6, 7, 7, 7, 7, 7, 7, 7, 7, 7, 7, 5,\n",
              "       7, 7, 7, 7, 7, 7, 7, 7, 7, 7, 7, 7])"
            ]
          },
          "metadata": {},
          "execution_count": 68
        }
      ]
    },
    {
      "cell_type": "code",
      "source": [
        "pd.crosstab(pred,y)"
      ],
      "metadata": {
        "colab": {
          "base_uri": "https://localhost:8080/",
          "height": 269
        },
        "id": "_XSSPlLN2gA-",
        "outputId": "315b1a2c-156d-4335-a371-8392a61a09e2"
      },
      "execution_count": 62,
      "outputs": [
        {
          "output_type": "execute_result",
          "data": {
            "text/plain": [
              "Type    1   2  3   5  6   7\n",
              "row_0                      \n",
              "1      62   9  8   0  0   1\n",
              "2       6  62  3   2  2   1\n",
              "3       1   2  6   0  0   0\n",
              "5       0   1  0  10  0   1\n",
              "6       0   0  0   0  7   1\n",
              "7       0   0  0   0  0  25"
            ],
            "text/html": [
              "\n",
              "  <div id=\"df-81e1af94-751f-4726-a1df-f1b272313334\">\n",
              "    <div class=\"colab-df-container\">\n",
              "      <div>\n",
              "<style scoped>\n",
              "    .dataframe tbody tr th:only-of-type {\n",
              "        vertical-align: middle;\n",
              "    }\n",
              "\n",
              "    .dataframe tbody tr th {\n",
              "        vertical-align: top;\n",
              "    }\n",
              "\n",
              "    .dataframe thead th {\n",
              "        text-align: right;\n",
              "    }\n",
              "</style>\n",
              "<table border=\"1\" class=\"dataframe\">\n",
              "  <thead>\n",
              "    <tr style=\"text-align: right;\">\n",
              "      <th>Type</th>\n",
              "      <th>1</th>\n",
              "      <th>2</th>\n",
              "      <th>3</th>\n",
              "      <th>5</th>\n",
              "      <th>6</th>\n",
              "      <th>7</th>\n",
              "    </tr>\n",
              "    <tr>\n",
              "      <th>row_0</th>\n",
              "      <th></th>\n",
              "      <th></th>\n",
              "      <th></th>\n",
              "      <th></th>\n",
              "      <th></th>\n",
              "      <th></th>\n",
              "    </tr>\n",
              "  </thead>\n",
              "  <tbody>\n",
              "    <tr>\n",
              "      <th>1</th>\n",
              "      <td>62</td>\n",
              "      <td>9</td>\n",
              "      <td>8</td>\n",
              "      <td>0</td>\n",
              "      <td>0</td>\n",
              "      <td>1</td>\n",
              "    </tr>\n",
              "    <tr>\n",
              "      <th>2</th>\n",
              "      <td>6</td>\n",
              "      <td>62</td>\n",
              "      <td>3</td>\n",
              "      <td>2</td>\n",
              "      <td>2</td>\n",
              "      <td>1</td>\n",
              "    </tr>\n",
              "    <tr>\n",
              "      <th>3</th>\n",
              "      <td>1</td>\n",
              "      <td>2</td>\n",
              "      <td>6</td>\n",
              "      <td>0</td>\n",
              "      <td>0</td>\n",
              "      <td>0</td>\n",
              "    </tr>\n",
              "    <tr>\n",
              "      <th>5</th>\n",
              "      <td>0</td>\n",
              "      <td>1</td>\n",
              "      <td>0</td>\n",
              "      <td>10</td>\n",
              "      <td>0</td>\n",
              "      <td>1</td>\n",
              "    </tr>\n",
              "    <tr>\n",
              "      <th>6</th>\n",
              "      <td>0</td>\n",
              "      <td>0</td>\n",
              "      <td>0</td>\n",
              "      <td>0</td>\n",
              "      <td>7</td>\n",
              "      <td>1</td>\n",
              "    </tr>\n",
              "    <tr>\n",
              "      <th>7</th>\n",
              "      <td>0</td>\n",
              "      <td>0</td>\n",
              "      <td>0</td>\n",
              "      <td>0</td>\n",
              "      <td>0</td>\n",
              "      <td>25</td>\n",
              "    </tr>\n",
              "  </tbody>\n",
              "</table>\n",
              "</div>\n",
              "      <button class=\"colab-df-convert\" onclick=\"convertToInteractive('df-81e1af94-751f-4726-a1df-f1b272313334')\"\n",
              "              title=\"Convert this dataframe to an interactive table.\"\n",
              "              style=\"display:none;\">\n",
              "        \n",
              "  <svg xmlns=\"http://www.w3.org/2000/svg\" height=\"24px\"viewBox=\"0 0 24 24\"\n",
              "       width=\"24px\">\n",
              "    <path d=\"M0 0h24v24H0V0z\" fill=\"none\"/>\n",
              "    <path d=\"M18.56 5.44l.94 2.06.94-2.06 2.06-.94-2.06-.94-.94-2.06-.94 2.06-2.06.94zm-11 1L8.5 8.5l.94-2.06 2.06-.94-2.06-.94L8.5 2.5l-.94 2.06-2.06.94zm10 10l.94 2.06.94-2.06 2.06-.94-2.06-.94-.94-2.06-.94 2.06-2.06.94z\"/><path d=\"M17.41 7.96l-1.37-1.37c-.4-.4-.92-.59-1.43-.59-.52 0-1.04.2-1.43.59L10.3 9.45l-7.72 7.72c-.78.78-.78 2.05 0 2.83L4 21.41c.39.39.9.59 1.41.59.51 0 1.02-.2 1.41-.59l7.78-7.78 2.81-2.81c.8-.78.8-2.07 0-2.86zM5.41 20L4 18.59l7.72-7.72 1.47 1.35L5.41 20z\"/>\n",
              "  </svg>\n",
              "      </button>\n",
              "      \n",
              "  <style>\n",
              "    .colab-df-container {\n",
              "      display:flex;\n",
              "      flex-wrap:wrap;\n",
              "      gap: 12px;\n",
              "    }\n",
              "\n",
              "    .colab-df-convert {\n",
              "      background-color: #E8F0FE;\n",
              "      border: none;\n",
              "      border-radius: 50%;\n",
              "      cursor: pointer;\n",
              "      display: none;\n",
              "      fill: #1967D2;\n",
              "      height: 32px;\n",
              "      padding: 0 0 0 0;\n",
              "      width: 32px;\n",
              "    }\n",
              "\n",
              "    .colab-df-convert:hover {\n",
              "      background-color: #E2EBFA;\n",
              "      box-shadow: 0px 1px 2px rgba(60, 64, 67, 0.3), 0px 1px 3px 1px rgba(60, 64, 67, 0.15);\n",
              "      fill: #174EA6;\n",
              "    }\n",
              "\n",
              "    [theme=dark] .colab-df-convert {\n",
              "      background-color: #3B4455;\n",
              "      fill: #D2E3FC;\n",
              "    }\n",
              "\n",
              "    [theme=dark] .colab-df-convert:hover {\n",
              "      background-color: #434B5C;\n",
              "      box-shadow: 0px 1px 3px 1px rgba(0, 0, 0, 0.15);\n",
              "      filter: drop-shadow(0px 1px 2px rgba(0, 0, 0, 0.3));\n",
              "      fill: #FFFFFF;\n",
              "    }\n",
              "  </style>\n",
              "\n",
              "      <script>\n",
              "        const buttonEl =\n",
              "          document.querySelector('#df-81e1af94-751f-4726-a1df-f1b272313334 button.colab-df-convert');\n",
              "        buttonEl.style.display =\n",
              "          google.colab.kernel.accessAllowed ? 'block' : 'none';\n",
              "\n",
              "        async function convertToInteractive(key) {\n",
              "          const element = document.querySelector('#df-81e1af94-751f-4726-a1df-f1b272313334');\n",
              "          const dataTable =\n",
              "            await google.colab.kernel.invokeFunction('convertToInteractive',\n",
              "                                                     [key], {});\n",
              "          if (!dataTable) return;\n",
              "\n",
              "          const docLinkHtml = 'Like what you see? Visit the ' +\n",
              "            '<a target=\"_blank\" href=https://colab.research.google.com/notebooks/data_table.ipynb>data table notebook</a>'\n",
              "            + ' to learn more about interactive tables.';\n",
              "          element.innerHTML = '';\n",
              "          dataTable['output_type'] = 'display_data';\n",
              "          await google.colab.output.renderOutput(dataTable, element);\n",
              "          const docLink = document.createElement('div');\n",
              "          docLink.innerHTML = docLinkHtml;\n",
              "          element.appendChild(docLink);\n",
              "        }\n",
              "      </script>\n",
              "    </div>\n",
              "  </div>\n",
              "  "
            ]
          },
          "metadata": {},
          "execution_count": 62
        }
      ]
    },
    {
      "cell_type": "code",
      "source": [
        ""
      ],
      "metadata": {
        "id": "JuW2un_h6K_a"
      },
      "execution_count": null,
      "outputs": []
    }
  ]
}